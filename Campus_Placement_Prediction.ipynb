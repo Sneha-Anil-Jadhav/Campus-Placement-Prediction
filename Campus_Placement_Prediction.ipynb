{
  "nbformat": 4,
  "nbformat_minor": 0,
  "metadata": {
    "colab": {
      "name": "Campus Placement Prediction.ipynb",
      "provenance": [],
      "collapsed_sections": []
    },
    "kernelspec": {
      "name": "python3",
      "display_name": "Python 3"
    },
    "language_info": {
      "name": "python"
    }
  },
  "cells": [
    {
      "cell_type": "code",
      "metadata": {
        "colab": {
          "base_uri": "https://localhost:8080/"
        },
        "id": "NLAef3Qr94VR",
        "outputId": "908fd212-032c-4ce7-9bf6-8b689602fdf3"
      },
      "source": [
        "from google.colab import drive\n",
        "drive.mount('/content/drive')"
      ],
      "execution_count": null,
      "outputs": [
        {
          "output_type": "stream",
          "name": "stdout",
          "text": [
            "Drive already mounted at /content/drive; to attempt to forcibly remount, call drive.mount(\"/content/drive\", force_remount=True).\n"
          ]
        }
      ]
    },
    {
      "cell_type": "code",
      "metadata": {
        "colab": {
          "base_uri": "https://localhost:8080/"
        },
        "id": "nwlxPLuWjUic",
        "outputId": "138abe4a-f7ed-4d0d-e3f5-c076514b496e"
      },
      "source": [
        "pip install cvxpy"
      ],
      "execution_count": null,
      "outputs": [
        {
          "output_type": "stream",
          "name": "stdout",
          "text": [
            "Requirement already satisfied: cvxpy in /usr/local/lib/python3.7/dist-packages (1.0.31)\n",
            "Requirement already satisfied: scipy>=1.1.0 in /usr/local/lib/python3.7/dist-packages (from cvxpy) (1.4.1)\n",
            "Requirement already satisfied: scs>=1.1.3 in /usr/local/lib/python3.7/dist-packages (from cvxpy) (2.1.4)\n",
            "Requirement already satisfied: numpy>=1.15 in /usr/local/lib/python3.7/dist-packages (from cvxpy) (1.19.5)\n",
            "Requirement already satisfied: multiprocess in /usr/local/lib/python3.7/dist-packages (from cvxpy) (0.70.12.2)\n",
            "Requirement already satisfied: osqp>=0.4.1 in /usr/local/lib/python3.7/dist-packages (from cvxpy) (0.6.2.post0)\n",
            "Requirement already satisfied: ecos>=2 in /usr/local/lib/python3.7/dist-packages (from cvxpy) (2.0.7.post1)\n",
            "Requirement already satisfied: qdldl in /usr/local/lib/python3.7/dist-packages (from osqp>=0.4.1->cvxpy) (0.1.5.post0)\n",
            "Requirement already satisfied: dill>=0.3.4 in /usr/local/lib/python3.7/dist-packages (from multiprocess->cvxpy) (0.3.4)\n"
          ]
        }
      ]
    },
    {
      "cell_type": "code",
      "metadata": {
        "colab": {
          "base_uri": "https://localhost:8080/"
        },
        "id": "KyxI_mGIje0i",
        "outputId": "477b203e-5810-4bfd-fe29-8ac65541d6ae"
      },
      "source": [
        "pip install wheel"
      ],
      "execution_count": null,
      "outputs": [
        {
          "output_type": "stream",
          "name": "stdout",
          "text": [
            "Requirement already satisfied: wheel in /usr/local/lib/python3.7/dist-packages (0.37.0)\n"
          ]
        }
      ]
    },
    {
      "cell_type": "code",
      "metadata": {
        "colab": {
          "base_uri": "https://localhost:8080/"
        },
        "id": "rm98U9N6d6jZ",
        "outputId": "0092dd78-eaa8-4f23-d581-90ddc07758ed"
      },
      "source": [
        "pip install gunicorn"
      ],
      "execution_count": null,
      "outputs": [
        {
          "output_type": "stream",
          "name": "stdout",
          "text": [
            "Requirement already satisfied: gunicorn in /usr/local/lib/python3.7/dist-packages (20.1.0)\n",
            "Requirement already satisfied: setuptools>=3.0 in /usr/local/lib/python3.7/dist-packages (from gunicorn) (57.4.0)\n"
          ]
        }
      ]
    },
    {
      "cell_type": "code",
      "metadata": {
        "id": "0-wW0kca96sG"
      },
      "source": [
        "import pandas as pd\n",
        "import numpy as np\n",
        "import matplotlib.pyplot as plt\n",
        "import seaborn as sns\n",
        "import ast\n",
        "\n",
        "from wordcloud import WordCloud, STOPWORDS\n",
        "\n",
        "\n",
        "from joblib import dump,load\n",
        "#%matplotlib notebook\n",
        "%matplotlib inline\n",
        "\n",
        "import warnings\n",
        "warnings.filterwarnings('ignore')\n",
        "\n",
        "\n",
        "\n",
        "from sklearn.linear_model import LogisticRegression\n",
        "from sklearn.preprocessing import LabelEncoder\n",
        "from sklearn.model_selection import train_test_split\n",
        "from sklearn.tree import DecisionTreeClassifier\n",
        "from sklearn.neighbors import KNeighborsClassifier\n",
        "from sklearn import metrics\n",
        "from sklearn.ensemble import RandomForestClassifier\n",
        "%matplotlib inline\n"
      ],
      "execution_count": null,
      "outputs": []
    },
    {
      "cell_type": "code",
      "metadata": {
        "id": "fHCFt6Jn-UZ6"
      },
      "source": [
        "df = pd.read_csv(\"/content/drive/MyDrive/campus placement/ml-with-python-course-project 2/train.csv\")"
      ],
      "execution_count": null,
      "outputs": []
    },
    {
      "cell_type": "code",
      "metadata": {
        "id": "ja8Aa26k-1Lp",
        "colab": {
          "base_uri": "https://localhost:8080/",
          "height": 476
        },
        "outputId": "9c82e485-fd13-4711-84ac-7a6e41d1fed8"
      },
      "source": [
        "df"
      ],
      "execution_count": null,
      "outputs": [
        {
          "output_type": "execute_result",
          "data": {
            "text/html": [
              "<div>\n",
              "<style scoped>\n",
              "    .dataframe tbody tr th:only-of-type {\n",
              "        vertical-align: middle;\n",
              "    }\n",
              "\n",
              "    .dataframe tbody tr th {\n",
              "        vertical-align: top;\n",
              "    }\n",
              "\n",
              "    .dataframe thead th {\n",
              "        text-align: right;\n",
              "    }\n",
              "</style>\n",
              "<table border=\"1\" class=\"dataframe\">\n",
              "  <thead>\n",
              "    <tr style=\"text-align: right;\">\n",
              "      <th></th>\n",
              "      <th>sl_no</th>\n",
              "      <th>gender</th>\n",
              "      <th>ssc_p</th>\n",
              "      <th>ssc_b</th>\n",
              "      <th>hsc_p</th>\n",
              "      <th>hsc_b</th>\n",
              "      <th>hsc_s</th>\n",
              "      <th>degree_p</th>\n",
              "      <th>degree_t</th>\n",
              "      <th>workex</th>\n",
              "      <th>etest_p</th>\n",
              "      <th>specialisation</th>\n",
              "      <th>mba_p</th>\n",
              "      <th>status</th>\n",
              "      <th>salary</th>\n",
              "    </tr>\n",
              "  </thead>\n",
              "  <tbody>\n",
              "    <tr>\n",
              "      <th>0</th>\n",
              "      <td>1</td>\n",
              "      <td>0</td>\n",
              "      <td>67.00</td>\n",
              "      <td>Others</td>\n",
              "      <td>91.00</td>\n",
              "      <td>Others</td>\n",
              "      <td>Commerce</td>\n",
              "      <td>58.00</td>\n",
              "      <td>Sci&amp;Tech</td>\n",
              "      <td>No</td>\n",
              "      <td>55.0</td>\n",
              "      <td>Mkt&amp;HR</td>\n",
              "      <td>58.80</td>\n",
              "      <td>Placed</td>\n",
              "      <td>270000.0</td>\n",
              "    </tr>\n",
              "    <tr>\n",
              "      <th>1</th>\n",
              "      <td>2</td>\n",
              "      <td>0</td>\n",
              "      <td>79.33</td>\n",
              "      <td>Central</td>\n",
              "      <td>78.33</td>\n",
              "      <td>Others</td>\n",
              "      <td>Science</td>\n",
              "      <td>77.48</td>\n",
              "      <td>Sci&amp;Tech</td>\n",
              "      <td>Yes</td>\n",
              "      <td>86.5</td>\n",
              "      <td>Mkt&amp;Fin</td>\n",
              "      <td>66.28</td>\n",
              "      <td>Placed</td>\n",
              "      <td>200000.0</td>\n",
              "    </tr>\n",
              "    <tr>\n",
              "      <th>2</th>\n",
              "      <td>3</td>\n",
              "      <td>0</td>\n",
              "      <td>65.00</td>\n",
              "      <td>Central</td>\n",
              "      <td>68.00</td>\n",
              "      <td>Central</td>\n",
              "      <td>Arts</td>\n",
              "      <td>64.00</td>\n",
              "      <td>Comm&amp;Mgmt</td>\n",
              "      <td>No</td>\n",
              "      <td>75.0</td>\n",
              "      <td>Mkt&amp;Fin</td>\n",
              "      <td>57.80</td>\n",
              "      <td>Placed</td>\n",
              "      <td>250000.0</td>\n",
              "    </tr>\n",
              "    <tr>\n",
              "      <th>3</th>\n",
              "      <td>4</td>\n",
              "      <td>0</td>\n",
              "      <td>56.00</td>\n",
              "      <td>Central</td>\n",
              "      <td>52.00</td>\n",
              "      <td>Central</td>\n",
              "      <td>Science</td>\n",
              "      <td>52.00</td>\n",
              "      <td>Sci&amp;Tech</td>\n",
              "      <td>No</td>\n",
              "      <td>66.0</td>\n",
              "      <td>Mkt&amp;HR</td>\n",
              "      <td>59.43</td>\n",
              "      <td>Not Placed</td>\n",
              "      <td>NaN</td>\n",
              "    </tr>\n",
              "    <tr>\n",
              "      <th>4</th>\n",
              "      <td>5</td>\n",
              "      <td>0</td>\n",
              "      <td>85.80</td>\n",
              "      <td>Central</td>\n",
              "      <td>73.60</td>\n",
              "      <td>Central</td>\n",
              "      <td>Commerce</td>\n",
              "      <td>73.30</td>\n",
              "      <td>Comm&amp;Mgmt</td>\n",
              "      <td>No</td>\n",
              "      <td>96.8</td>\n",
              "      <td>Mkt&amp;Fin</td>\n",
              "      <td>55.50</td>\n",
              "      <td>Placed</td>\n",
              "      <td>425000.0</td>\n",
              "    </tr>\n",
              "    <tr>\n",
              "      <th>...</th>\n",
              "      <td>...</td>\n",
              "      <td>...</td>\n",
              "      <td>...</td>\n",
              "      <td>...</td>\n",
              "      <td>...</td>\n",
              "      <td>...</td>\n",
              "      <td>...</td>\n",
              "      <td>...</td>\n",
              "      <td>...</td>\n",
              "      <td>...</td>\n",
              "      <td>...</td>\n",
              "      <td>...</td>\n",
              "      <td>...</td>\n",
              "      <td>...</td>\n",
              "      <td>...</td>\n",
              "    </tr>\n",
              "    <tr>\n",
              "      <th>210</th>\n",
              "      <td>211</td>\n",
              "      <td>0</td>\n",
              "      <td>80.60</td>\n",
              "      <td>Others</td>\n",
              "      <td>82.00</td>\n",
              "      <td>Others</td>\n",
              "      <td>Commerce</td>\n",
              "      <td>77.60</td>\n",
              "      <td>Comm&amp;Mgmt</td>\n",
              "      <td>No</td>\n",
              "      <td>91.0</td>\n",
              "      <td>Mkt&amp;Fin</td>\n",
              "      <td>74.49</td>\n",
              "      <td>Placed</td>\n",
              "      <td>400000.0</td>\n",
              "    </tr>\n",
              "    <tr>\n",
              "      <th>211</th>\n",
              "      <td>212</td>\n",
              "      <td>0</td>\n",
              "      <td>58.00</td>\n",
              "      <td>Others</td>\n",
              "      <td>60.00</td>\n",
              "      <td>Others</td>\n",
              "      <td>Science</td>\n",
              "      <td>72.00</td>\n",
              "      <td>Sci&amp;Tech</td>\n",
              "      <td>No</td>\n",
              "      <td>74.0</td>\n",
              "      <td>Mkt&amp;Fin</td>\n",
              "      <td>53.62</td>\n",
              "      <td>Placed</td>\n",
              "      <td>275000.0</td>\n",
              "    </tr>\n",
              "    <tr>\n",
              "      <th>212</th>\n",
              "      <td>213</td>\n",
              "      <td>0</td>\n",
              "      <td>67.00</td>\n",
              "      <td>Others</td>\n",
              "      <td>67.00</td>\n",
              "      <td>Others</td>\n",
              "      <td>Commerce</td>\n",
              "      <td>73.00</td>\n",
              "      <td>Comm&amp;Mgmt</td>\n",
              "      <td>Yes</td>\n",
              "      <td>59.0</td>\n",
              "      <td>Mkt&amp;Fin</td>\n",
              "      <td>69.72</td>\n",
              "      <td>Placed</td>\n",
              "      <td>295000.0</td>\n",
              "    </tr>\n",
              "    <tr>\n",
              "      <th>213</th>\n",
              "      <td>214</td>\n",
              "      <td>1</td>\n",
              "      <td>74.00</td>\n",
              "      <td>Others</td>\n",
              "      <td>66.00</td>\n",
              "      <td>Others</td>\n",
              "      <td>Commerce</td>\n",
              "      <td>58.00</td>\n",
              "      <td>Comm&amp;Mgmt</td>\n",
              "      <td>No</td>\n",
              "      <td>70.0</td>\n",
              "      <td>Mkt&amp;HR</td>\n",
              "      <td>60.23</td>\n",
              "      <td>Placed</td>\n",
              "      <td>204000.0</td>\n",
              "    </tr>\n",
              "    <tr>\n",
              "      <th>214</th>\n",
              "      <td>215</td>\n",
              "      <td>0</td>\n",
              "      <td>62.00</td>\n",
              "      <td>Central</td>\n",
              "      <td>58.00</td>\n",
              "      <td>Others</td>\n",
              "      <td>Science</td>\n",
              "      <td>53.00</td>\n",
              "      <td>Comm&amp;Mgmt</td>\n",
              "      <td>No</td>\n",
              "      <td>89.0</td>\n",
              "      <td>Mkt&amp;HR</td>\n",
              "      <td>60.22</td>\n",
              "      <td>Not Placed</td>\n",
              "      <td>NaN</td>\n",
              "    </tr>\n",
              "  </tbody>\n",
              "</table>\n",
              "<p>215 rows × 15 columns</p>\n",
              "</div>"
            ],
            "text/plain": [
              "     sl_no  gender  ssc_p    ssc_b  ...  specialisation  mba_p      status    salary\n",
              "0        1       0  67.00   Others  ...          Mkt&HR  58.80      Placed  270000.0\n",
              "1        2       0  79.33  Central  ...         Mkt&Fin  66.28      Placed  200000.0\n",
              "2        3       0  65.00  Central  ...         Mkt&Fin  57.80      Placed  250000.0\n",
              "3        4       0  56.00  Central  ...          Mkt&HR  59.43  Not Placed       NaN\n",
              "4        5       0  85.80  Central  ...         Mkt&Fin  55.50      Placed  425000.0\n",
              "..     ...     ...    ...      ...  ...             ...    ...         ...       ...\n",
              "210    211       0  80.60   Others  ...         Mkt&Fin  74.49      Placed  400000.0\n",
              "211    212       0  58.00   Others  ...         Mkt&Fin  53.62      Placed  275000.0\n",
              "212    213       0  67.00   Others  ...         Mkt&Fin  69.72      Placed  295000.0\n",
              "213    214       1  74.00   Others  ...          Mkt&HR  60.23      Placed  204000.0\n",
              "214    215       0  62.00  Central  ...          Mkt&HR  60.22  Not Placed       NaN\n",
              "\n",
              "[215 rows x 15 columns]"
            ]
          },
          "metadata": {},
          "execution_count": 5
        }
      ]
    },
    {
      "cell_type": "code",
      "metadata": {
        "id": "8qLUuLFi-5ZQ",
        "colab": {
          "base_uri": "https://localhost:8080/"
        },
        "outputId": "ca3f5901-5314-4980-eb63-3fd8f34aee7f"
      },
      "source": [
        "df.info()"
      ],
      "execution_count": null,
      "outputs": [
        {
          "output_type": "stream",
          "name": "stdout",
          "text": [
            "<class 'pandas.core.frame.DataFrame'>\n",
            "RangeIndex: 215 entries, 0 to 214\n",
            "Data columns (total 15 columns):\n",
            " #   Column          Non-Null Count  Dtype  \n",
            "---  ------          --------------  -----  \n",
            " 0   sl_no           215 non-null    int64  \n",
            " 1   gender          215 non-null    int64  \n",
            " 2   ssc_p           215 non-null    float64\n",
            " 3   ssc_b           215 non-null    object \n",
            " 4   hsc_p           215 non-null    float64\n",
            " 5   hsc_b           215 non-null    object \n",
            " 6   hsc_s           215 non-null    object \n",
            " 7   degree_p        215 non-null    float64\n",
            " 8   degree_t        215 non-null    object \n",
            " 9   workex          215 non-null    object \n",
            " 10  etest_p         215 non-null    float64\n",
            " 11  specialisation  215 non-null    object \n",
            " 12  mba_p           215 non-null    float64\n",
            " 13  status          215 non-null    object \n",
            " 14  salary          148 non-null    float64\n",
            "dtypes: float64(6), int64(2), object(7)\n",
            "memory usage: 25.3+ KB\n"
          ]
        }
      ]
    },
    {
      "cell_type": "code",
      "metadata": {
        "id": "gvmt2IpE_dA-",
        "colab": {
          "base_uri": "https://localhost:8080/"
        },
        "outputId": "36525095-bf23-498b-d724-0d6fc308bd4b"
      },
      "source": [
        "# check null values in df\n",
        "df.isnull().sum()"
      ],
      "execution_count": null,
      "outputs": [
        {
          "output_type": "execute_result",
          "data": {
            "text/plain": [
              "sl_no              0\n",
              "gender             0\n",
              "ssc_p              0\n",
              "ssc_b              0\n",
              "hsc_p              0\n",
              "hsc_b              0\n",
              "hsc_s              0\n",
              "degree_p           0\n",
              "degree_t           0\n",
              "workex             0\n",
              "etest_p            0\n",
              "specialisation     0\n",
              "mba_p              0\n",
              "status             0\n",
              "salary            67\n",
              "dtype: int64"
            ]
          },
          "metadata": {},
          "execution_count": 7
        }
      ]
    },
    {
      "cell_type": "markdown",
      "metadata": {
        "id": "CNbITVe3AJ-4"
      },
      "source": [
        "Dataset has 1 integer, 8 object and 6 float datatypes.\n",
        "No other columns have missing values except salary column. There are 148 non-null values in salary column i.e. 67 null values which shows that 67 candidates weren't placed.\n",
        "We can't drop these values as they give information on candidates who weren't placed.\n",
        "Imputing values with mean/median would be very wrong because candidates who weren't placed can't get salary.\n",
        "So we impute these values with 0."
      ]
    },
    {
      "cell_type": "markdown",
      "metadata": {
        "id": "hmKCPDFVAQrH"
      },
      "source": [
        "Data Cleaning"
      ]
    },
    {
      "cell_type": "code",
      "metadata": {
        "id": "pF8ju5HG_pTt"
      },
      "source": [
        "df = df.drop('sl_no',axis=1)"
      ],
      "execution_count": null,
      "outputs": []
    },
    {
      "cell_type": "markdown",
      "metadata": {
        "id": "jpkhF99yAXvr"
      },
      "source": [
        "Imputing null values in Salary column with 0"
      ]
    },
    {
      "cell_type": "code",
      "metadata": {
        "id": "YwpeLZeLAUR0",
        "colab": {
          "base_uri": "https://localhost:8080/"
        },
        "outputId": "a19c0b95-1f4a-4b5e-a1c2-b175710172fb"
      },
      "source": [
        "df['salary'].fillna(0,inplace=True)\n",
        "df['salary'].isnull().sum()"
      ],
      "execution_count": null,
      "outputs": [
        {
          "output_type": "execute_result",
          "data": {
            "text/plain": [
              "0"
            ]
          },
          "metadata": {},
          "execution_count": 9
        }
      ]
    },
    {
      "cell_type": "markdown",
      "metadata": {
        "id": "BDFZF1yEApZM"
      },
      "source": [
        "Checking for outliers"
      ]
    },
    {
      "cell_type": "code",
      "metadata": {
        "id": "7LKa7it8AcDI",
        "colab": {
          "base_uri": "https://localhost:8080/",
          "height": 896
        },
        "outputId": "e250a2f6-7866-44af-f333-113397f1da75"
      },
      "source": [
        "plt.figure(figsize = (15, 15))\n",
        "\n",
        "ax=plt.subplot(321)\n",
        "plt.boxplot(df['ssc_p'])\n",
        "ax.set_title('Secondary Education percentage- 10th Grade')\n",
        "\n",
        "ax=plt.subplot(322)\n",
        "plt.boxplot(df['hsc_p'])\n",
        "ax.set_title('Higher Secondary Education percentage- 12th Grade')\n",
        "\n",
        "ax=plt.subplot(323)\n",
        "plt.boxplot(df['degree_p'])\n",
        "ax.set_title('UG Degree Percentage')\n",
        "\n",
        "ax=plt.subplot(324)\n",
        "plt.boxplot(df['etest_p'])\n",
        "ax.set_title('Employability test percentage ( conducted by college)')\n",
        "\n",
        "ax=plt.subplot(325)\n",
        "plt.boxplot(df['mba_p'])\n",
        "ax.set_title('MBA percentage')"
      ],
      "execution_count": null,
      "outputs": [
        {
          "output_type": "execute_result",
          "data": {
            "text/plain": [
              "Text(0.5, 1.0, 'MBA percentage')"
            ]
          },
          "metadata": {},
          "execution_count": 10
        },
        {
          "output_type": "display_data",
          "data": {
            "image/png": "[encoded data removed]",
            "text/plain": [
              "<Figure size 1080x1080 with 5 Axes>"
            ]
          },
          "metadata": {
            "needs_background": "light"
          }
        }
      ]
    },
    {
      "cell_type": "markdown",
      "metadata": {
        "id": "5BBRYJYsA3bU"
      },
      "source": [
        "Here we can see that only hsc_p column has outliers."
      ]
    },
    {
      "cell_type": "code",
      "metadata": {
        "id": "bMZQv_4lAvzF",
        "colab": {
          "base_uri": "https://localhost:8080/",
          "height": 405
        },
        "outputId": "7d106cbc-2b53-4e28-a787-f6cbac550fc9"
      },
      "source": [
        "Q1 = df['hsc_p'].quantile(0.25)\n",
        "Q3 = df['hsc_p'].quantile(0.75)\n",
        "IQR = Q3 - Q1   \n",
        "\n",
        "df[(df['hsc_p'] <= Q1 - 1.5 * IQR) | (df['hsc_p'] >= Q3 + 1.5 *IQR)]"
      ],
      "execution_count": null,
      "outputs": [
        {
          "output_type": "execute_result",
          "data": {
            "text/html": [
              "<div>\n",
              "<style scoped>\n",
              "    .dataframe tbody tr th:only-of-type {\n",
              "        vertical-align: middle;\n",
              "    }\n",
              "\n",
              "    .dataframe tbody tr th {\n",
              "        vertical-align: top;\n",
              "    }\n",
              "\n",
              "    .dataframe thead th {\n",
              "        text-align: right;\n",
              "    }\n",
              "</style>\n",
              "<table border=\"1\" class=\"dataframe\">\n",
              "  <thead>\n",
              "    <tr style=\"text-align: right;\">\n",
              "      <th></th>\n",
              "      <th>gender</th>\n",
              "      <th>ssc_p</th>\n",
              "      <th>ssc_b</th>\n",
              "      <th>hsc_p</th>\n",
              "      <th>hsc_b</th>\n",
              "      <th>hsc_s</th>\n",
              "      <th>degree_p</th>\n",
              "      <th>degree_t</th>\n",
              "      <th>workex</th>\n",
              "      <th>etest_p</th>\n",
              "      <th>specialisation</th>\n",
              "      <th>mba_p</th>\n",
              "      <th>status</th>\n",
              "      <th>salary</th>\n",
              "    </tr>\n",
              "  </thead>\n",
              "  <tbody>\n",
              "    <tr>\n",
              "      <th>24</th>\n",
              "      <td>0</td>\n",
              "      <td>76.50</td>\n",
              "      <td>Others</td>\n",
              "      <td>97.70</td>\n",
              "      <td>Others</td>\n",
              "      <td>Science</td>\n",
              "      <td>78.86</td>\n",
              "      <td>Sci&amp;Tech</td>\n",
              "      <td>No</td>\n",
              "      <td>97.40</td>\n",
              "      <td>Mkt&amp;Fin</td>\n",
              "      <td>74.01</td>\n",
              "      <td>Placed</td>\n",
              "      <td>360000.0</td>\n",
              "    </tr>\n",
              "    <tr>\n",
              "      <th>42</th>\n",
              "      <td>0</td>\n",
              "      <td>49.00</td>\n",
              "      <td>Others</td>\n",
              "      <td>39.00</td>\n",
              "      <td>Central</td>\n",
              "      <td>Science</td>\n",
              "      <td>65.00</td>\n",
              "      <td>Others</td>\n",
              "      <td>No</td>\n",
              "      <td>63.00</td>\n",
              "      <td>Mkt&amp;Fin</td>\n",
              "      <td>51.21</td>\n",
              "      <td>Not Placed</td>\n",
              "      <td>0.0</td>\n",
              "    </tr>\n",
              "    <tr>\n",
              "      <th>49</th>\n",
              "      <td>1</td>\n",
              "      <td>50.00</td>\n",
              "      <td>Others</td>\n",
              "      <td>37.00</td>\n",
              "      <td>Others</td>\n",
              "      <td>Arts</td>\n",
              "      <td>52.00</td>\n",
              "      <td>Others</td>\n",
              "      <td>No</td>\n",
              "      <td>65.00</td>\n",
              "      <td>Mkt&amp;HR</td>\n",
              "      <td>56.11</td>\n",
              "      <td>Not Placed</td>\n",
              "      <td>0.0</td>\n",
              "    </tr>\n",
              "    <tr>\n",
              "      <th>120</th>\n",
              "      <td>0</td>\n",
              "      <td>58.00</td>\n",
              "      <td>Others</td>\n",
              "      <td>40.00</td>\n",
              "      <td>Others</td>\n",
              "      <td>Science</td>\n",
              "      <td>59.00</td>\n",
              "      <td>Comm&amp;Mgmt</td>\n",
              "      <td>No</td>\n",
              "      <td>73.00</td>\n",
              "      <td>Mkt&amp;HR</td>\n",
              "      <td>58.81</td>\n",
              "      <td>Not Placed</td>\n",
              "      <td>0.0</td>\n",
              "    </tr>\n",
              "    <tr>\n",
              "      <th>134</th>\n",
              "      <td>1</td>\n",
              "      <td>77.44</td>\n",
              "      <td>Central</td>\n",
              "      <td>92.00</td>\n",
              "      <td>Others</td>\n",
              "      <td>Commerce</td>\n",
              "      <td>72.00</td>\n",
              "      <td>Comm&amp;Mgmt</td>\n",
              "      <td>Yes</td>\n",
              "      <td>94.00</td>\n",
              "      <td>Mkt&amp;Fin</td>\n",
              "      <td>67.13</td>\n",
              "      <td>Placed</td>\n",
              "      <td>250000.0</td>\n",
              "    </tr>\n",
              "    <tr>\n",
              "      <th>169</th>\n",
              "      <td>0</td>\n",
              "      <td>59.96</td>\n",
              "      <td>Others</td>\n",
              "      <td>42.16</td>\n",
              "      <td>Others</td>\n",
              "      <td>Science</td>\n",
              "      <td>61.26</td>\n",
              "      <td>Sci&amp;Tech</td>\n",
              "      <td>No</td>\n",
              "      <td>54.48</td>\n",
              "      <td>Mkt&amp;HR</td>\n",
              "      <td>65.48</td>\n",
              "      <td>Not Placed</td>\n",
              "      <td>0.0</td>\n",
              "    </tr>\n",
              "    <tr>\n",
              "      <th>177</th>\n",
              "      <td>1</td>\n",
              "      <td>73.00</td>\n",
              "      <td>Central</td>\n",
              "      <td>97.00</td>\n",
              "      <td>Others</td>\n",
              "      <td>Commerce</td>\n",
              "      <td>79.00</td>\n",
              "      <td>Comm&amp;Mgmt</td>\n",
              "      <td>Yes</td>\n",
              "      <td>89.00</td>\n",
              "      <td>Mkt&amp;Fin</td>\n",
              "      <td>70.81</td>\n",
              "      <td>Placed</td>\n",
              "      <td>650000.0</td>\n",
              "    </tr>\n",
              "    <tr>\n",
              "      <th>206</th>\n",
              "      <td>0</td>\n",
              "      <td>41.00</td>\n",
              "      <td>Central</td>\n",
              "      <td>42.00</td>\n",
              "      <td>Central</td>\n",
              "      <td>Science</td>\n",
              "      <td>60.00</td>\n",
              "      <td>Comm&amp;Mgmt</td>\n",
              "      <td>No</td>\n",
              "      <td>97.00</td>\n",
              "      <td>Mkt&amp;Fin</td>\n",
              "      <td>53.39</td>\n",
              "      <td>Not Placed</td>\n",
              "      <td>0.0</td>\n",
              "    </tr>\n",
              "  </tbody>\n",
              "</table>\n",
              "</div>"
            ],
            "text/plain": [
              "     gender  ssc_p    ssc_b  hsc_p  ... specialisation  mba_p      status    salary\n",
              "24        0  76.50   Others  97.70  ...        Mkt&Fin  74.01      Placed  360000.0\n",
              "42        0  49.00   Others  39.00  ...        Mkt&Fin  51.21  Not Placed       0.0\n",
              "49        1  50.00   Others  37.00  ...         Mkt&HR  56.11  Not Placed       0.0\n",
              "120       0  58.00   Others  40.00  ...         Mkt&HR  58.81  Not Placed       0.0\n",
              "134       1  77.44  Central  92.00  ...        Mkt&Fin  67.13      Placed  250000.0\n",
              "169       0  59.96   Others  42.16  ...         Mkt&HR  65.48  Not Placed       0.0\n",
              "177       1  73.00  Central  97.00  ...        Mkt&Fin  70.81      Placed  650000.0\n",
              "206       0  41.00  Central  42.00  ...        Mkt&Fin  53.39  Not Placed       0.0\n",
              "\n",
              "[8 rows x 14 columns]"
            ]
          },
          "metadata": {},
          "execution_count": 11
        }
      ]
    },
    {
      "cell_type": "markdown",
      "metadata": {
        "id": "wC7QKqj2CqiT"
      },
      "source": [
        "Handling with Catagorical Data"
      ]
    },
    {
      "cell_type": "code",
      "metadata": {
        "id": "bTTXF-cICpZq"
      },
      "source": [
        "# we convert object type data into numerical datatype\n",
        "    \n",
        "\n",
        "df['status']=df['status'].astype('category')\n",
        "df['workex']=df['workex'].astype('category')\n",
        "df['hsc_b']=df['hsc_b'].astype('category')\n",
        "df['ssc_b']=df['ssc_b'].astype('category')"
      ],
      "execution_count": null,
      "outputs": []
    },
    {
      "cell_type": "code",
      "metadata": {
        "id": "wOMeB4pZCulD",
        "colab": {
          "base_uri": "https://localhost:8080/"
        },
        "outputId": "e855bf9f-ee49-4f4a-a0e9-11036df9377c"
      },
      "source": [
        "#check how many unique data in these dataframe\n",
        "\n",
        "print(df['gender'].unique())\n",
        "print(df['status'].unique())\n",
        "print(df['workex'].unique())\n",
        "print(df['hsc_b'].unique())\n",
        "print(df['ssc_b'].unique())"
      ],
      "execution_count": null,
      "outputs": [
        {
          "output_type": "stream",
          "name": "stdout",
          "text": [
            "[0 1]\n",
            "['Placed', 'Not Placed']\n",
            "Categories (2, object): ['Placed', 'Not Placed']\n",
            "['No', 'Yes']\n",
            "Categories (2, object): ['No', 'Yes']\n",
            "['Others', 'Central']\n",
            "Categories (2, object): ['Others', 'Central']\n",
            "['Others', 'Central']\n",
            "Categories (2, object): ['Others', 'Central']\n"
          ]
        }
      ]
    },
    {
      "cell_type": "code",
      "metadata": {
        "id": "zesi3uwrCzWq"
      },
      "source": [
        "# Replace the value in 0,1 or quantitative parameters\n",
        "\n",
        "df[\"status\"].replace(['Placed',\"Not Placed\"],[1,0],inplace=True)\n",
        "\n",
        "df['workex'].replace(to_replace =\"Yes\", value =1,inplace=True) \n",
        "df['workex'].replace(to_replace =\"No\", value =0,inplace=True)"
      ],
      "execution_count": null,
      "outputs": []
    },
    {
      "cell_type": "code",
      "metadata": {
        "id": "sZo_XdqbC94G",
        "colab": {
          "base_uri": "https://localhost:8080/"
        },
        "outputId": "04f3b51e-9f2c-477f-d563-fc30382fc37f"
      },
      "source": [
        "df[\"gender\"].dtype"
      ],
      "execution_count": null,
      "outputs": [
        {
          "output_type": "execute_result",
          "data": {
            "text/plain": [
              "dtype('int64')"
            ]
          },
          "metadata": {},
          "execution_count": 15
        }
      ]
    },
    {
      "cell_type": "code",
      "metadata": {
        "id": "8HGqcKsyBrLT",
        "colab": {
          "base_uri": "https://localhost:8080/",
          "height": 335
        },
        "outputId": "ac27efe5-2288-43b1-a664-5935bb4278d7"
      },
      "source": [
        "# show the percentage of male or female\n",
        "fig = plt.figure()\n",
        "ax = fig.add_axes([0,0,1,1])\n",
        "ax.axis('equal')\n",
        "gender = ['Male','Female']\n",
        "students = [139,76]\n",
        "ax.pie(students, labels = gender,autopct='%1.2f%%',colors = [\"#1f77b4\", \"#ff7f0e\"])\n",
        "plt.title('Pie chart ')\n",
        "plt.show()"
      ],
      "execution_count": null,
      "outputs": [
        {
          "output_type": "display_data",
          "data": {
            "image/png": "[encoded data removed]",
            "text/plain": [
              "<Figure size 432x288 with 1 Axes>"
            ]
          },
          "metadata": {}
        }
      ]
    },
    {
      "cell_type": "code",
      "metadata": {
        "id": "5UA7iMHkCb-N",
        "colab": {
          "base_uri": "https://localhost:8080/",
          "height": 345
        },
        "outputId": "ae55f813-5802-4865-f822-8f2e0cb63eb8"
      },
      "source": [
        "#show the no. of student how placed or not placed.\n",
        "\n",
        "print(\"Number of not placed Student \"+ str(len(df[df[\"status\"]==0])))\n",
        "print(\"Number of placed Student \"+ str(len(df[df[\"status\"]==\"Placed\"])))\n",
        "\n",
        "plt.bar([0],height=len(df[df[\"status\"]==0]))\n",
        "plt.bar([1],height=len(df[df[\"status\"]==1]))\n",
        "\n",
        "plt.xlabel(\"Status\")\n",
        "plt.ylabel(\"Count\")\n",
        "\n",
        "plt.xticks(np.arange(2), ('Not placed', 'Placed'))\n",
        "plt.title(\"No of Student placed\\n\")\n",
        "plt.show()"
      ],
      "execution_count": null,
      "outputs": [
        {
          "output_type": "stream",
          "name": "stdout",
          "text": [
            "Number of not placed Student 67\n",
            "Number of placed Student 0\n"
          ]
        },
        {
          "output_type": "display_data",
          "data": {
            "image/png": "[encoded data removed]",
            "text/plain": [
              "<Figure size 432x288 with 1 Axes>"
            ]
          },
          "metadata": {
            "needs_background": "light"
          }
        }
      ]
    },
    {
      "cell_type": "code",
      "metadata": {
        "id": "kEW1Gn5BE6wB",
        "colab": {
          "base_uri": "https://localhost:8080/",
          "height": 422
        },
        "outputId": "474463f6-ae8f-4d96-e694-6638a5843a92"
      },
      "source": [
        "#average percentage of all education qualification\n",
        "values = [(df['ssc_p'].mean()),(df['hsc_p'].mean()),(df['mba_p'].mean()),(df['degree_p'].mean())]\n",
        "print('scc_p mean = ' +str(df['ssc_p'].mean()))\n",
        "print('hsc_p mean = ' +str(df['hsc_p'].mean()))\n",
        "print('mba_p mean = ' +str(df['mba_p'].mean()))\n",
        "print('degree_p mean = ' +str(df['degree_p'].mean()))\n",
        "fig = plt.figure()\n",
        "ax = fig.add_axes([0,0,1,1])\n",
        "names = ['ssc_p','hsc_p','mba_p','degree_p']\n",
        "ax.set_ylabel('Average percentages')\n",
        "ax.set_title('Average Percentage')\n",
        "ax.bar(names,values,width = 0.5,color=[\"#2ca02c\"])\n",
        "plt.show()"
      ],
      "execution_count": null,
      "outputs": [
        {
          "output_type": "stream",
          "name": "stdout",
          "text": [
            "scc_p mean = 67.3033953488372\n",
            "hsc_p mean = 66.33316279069766\n",
            "mba_p mean = 62.278186046511586\n",
            "degree_p mean = 66.37018604651163\n"
          ]
        },
        {
          "output_type": "display_data",
          "data": {
            "image/png": "[encoded data removed]",
            "text/plain": [
              "<Figure size 432x288 with 1 Axes>"
            ]
          },
          "metadata": {
            "needs_background": "light"
          }
        }
      ]
    },
    {
      "cell_type": "markdown",
      "metadata": {
        "id": "qYYL_Z9MEmvU"
      },
      "source": [
        "Which factor influenced a candidate in getting placed?\n",
        "or\n",
        "\n",
        "Does percentage matters for one to get placed?"
      ]
    },
    {
      "cell_type": "code",
      "metadata": {
        "id": "QWbI_QVGEG8N",
        "colab": {
          "base_uri": "https://localhost:8080/"
        },
        "outputId": "e495b4a6-71d4-4694-8c3c-c49c873f5def"
      },
      "source": [
        "#show the relation between diffrent qualification placement status usinng correlation.\n",
        "\n",
        "print('ssc_p to placement ', round(df['status'].corr(df['ssc_p'])*100,1),'%')\n",
        "print('hsc_p to placement ', round(df['status'].corr(df['hsc_p'])*100,1),'%')\n",
        "print('mba_p to placement ', round(df['status'].corr(df['mba_p'])*100,1),'%')\n",
        "print('degree_p to placement ', round(df['status'].corr(df['degree_p'])*100,1),'%')\n",
        "print('etest_p to placement ', round(df['status'].corr(df['etest_p'])*100,1),'%')\n",
        "\n",
        "print('workexp to placement ', round(df['status'].corr(df['workex'])*100,1),'%')"
      ],
      "execution_count": null,
      "outputs": [
        {
          "output_type": "stream",
          "name": "stdout",
          "text": [
            "ssc_p to placement  60.8 %\n",
            "hsc_p to placement  49.1 %\n",
            "mba_p to placement  7.7 %\n",
            "degree_p to placement  48.0 %\n",
            "etest_p to placement  12.8 %\n",
            "workexp to placement  27.6 %\n"
          ]
        }
      ]
    },
    {
      "cell_type": "code",
      "metadata": {
        "id": "GXhfCbZzEp0z",
        "colab": {
          "base_uri": "https://localhost:8080/",
          "height": 112
        },
        "outputId": "6f7509c9-8fa8-4296-a9d9-fe9eeb046480"
      },
      "source": [
        "df_grade = df.groupby(['status']).mean()[['hsc_p', 'degree_p', 'mba_p']].reset_index()\n",
        "df_grade.head()"
      ],
      "execution_count": null,
      "outputs": [
        {
          "output_type": "execute_result",
          "data": {
            "text/html": [
              "<div>\n",
              "<style scoped>\n",
              "    .dataframe tbody tr th:only-of-type {\n",
              "        vertical-align: middle;\n",
              "    }\n",
              "\n",
              "    .dataframe tbody tr th {\n",
              "        vertical-align: top;\n",
              "    }\n",
              "\n",
              "    .dataframe thead th {\n",
              "        text-align: right;\n",
              "    }\n",
              "</style>\n",
              "<table border=\"1\" class=\"dataframe\">\n",
              "  <thead>\n",
              "    <tr style=\"text-align: right;\">\n",
              "      <th></th>\n",
              "      <th>status</th>\n",
              "      <th>hsc_p</th>\n",
              "      <th>degree_p</th>\n",
              "      <th>mba_p</th>\n",
              "    </tr>\n",
              "  </thead>\n",
              "  <tbody>\n",
              "    <tr>\n",
              "      <th>0</th>\n",
              "      <td>0</td>\n",
              "      <td>58.395522</td>\n",
              "      <td>61.134179</td>\n",
              "      <td>61.612836</td>\n",
              "    </tr>\n",
              "    <tr>\n",
              "      <th>1</th>\n",
              "      <td>1</td>\n",
              "      <td>69.926554</td>\n",
              "      <td>68.740541</td>\n",
              "      <td>62.579392</td>\n",
              "    </tr>\n",
              "  </tbody>\n",
              "</table>\n",
              "</div>"
            ],
            "text/plain": [
              "   status      hsc_p   degree_p      mba_p\n",
              "0       0  58.395522  61.134179  61.612836\n",
              "1       1  69.926554  68.740541  62.579392"
            ]
          },
          "metadata": {},
          "execution_count": 20
        }
      ]
    },
    {
      "cell_type": "code",
      "metadata": {
        "id": "UAhNFUSSGJ_h",
        "colab": {
          "base_uri": "https://localhost:8080/",
          "height": 345
        },
        "outputId": "1c88300f-0504-414f-9e3f-328e3a32fb52"
      },
      "source": [
        "# which specialisation is more demand in campus selection\n",
        "\n",
        "plt.bar([1],height=len(df[df[\"specialisation\"]==\"Mkt&HR\"]))\n",
        "plt.bar([0],height=len(df[df[\"specialisation\"]==\"Mkt&Fin\"]))\n",
        "plt.xlabel(\"specialisation in Mkt&Fin and Mkt&HR\")\n",
        "plt.ylabel(\"no.of specialisation\")\n",
        "\n",
        "print(\"specialisation in Mkt&Fin \"+ str(len(df[df[\"specialisation\"]==\"Mkt&Fin\"])))\n",
        "print(\"specialisation in Mkt&HR \"+ str(len(df[df[\"specialisation\"]==\"Mkt&HR\"])))\n",
        "plt.xticks(np.arange(2), ('Mkt&Fin', 'Mkt&HR'))\n",
        "plt.title(\"which specialisation is more demand in campus selection\\n\")\n",
        "plt.show()"
      ],
      "execution_count": null,
      "outputs": [
        {
          "output_type": "stream",
          "name": "stdout",
          "text": [
            "specialisation in Mkt&Fin 120\n",
            "specialisation in Mkt&HR 95\n"
          ]
        },
        {
          "output_type": "display_data",
          "data": {
            "image/png": "[encoded data removed]",
            "text/plain": [
              "<Figure size 432x288 with 1 Axes>"
            ]
          },
          "metadata": {
            "needs_background": "light"
          }
        }
      ]
    },
    {
      "cell_type": "code",
      "metadata": {
        "id": "KDyDsW24GinI",
        "colab": {
          "base_uri": "https://localhost:8080/",
          "height": 442
        },
        "outputId": "a9250a33-6cf2-464d-9295-800620dff4a6"
      },
      "source": [
        "df"
      ],
      "execution_count": null,
      "outputs": [
        {
          "output_type": "execute_result",
          "data": {
            "text/html": [
              "<div>\n",
              "<style scoped>\n",
              "    .dataframe tbody tr th:only-of-type {\n",
              "        vertical-align: middle;\n",
              "    }\n",
              "\n",
              "    .dataframe tbody tr th {\n",
              "        vertical-align: top;\n",
              "    }\n",
              "\n",
              "    .dataframe thead th {\n",
              "        text-align: right;\n",
              "    }\n",
              "</style>\n",
              "<table border=\"1\" class=\"dataframe\">\n",
              "  <thead>\n",
              "    <tr style=\"text-align: right;\">\n",
              "      <th></th>\n",
              "      <th>gender</th>\n",
              "      <th>ssc_p</th>\n",
              "      <th>ssc_b</th>\n",
              "      <th>hsc_p</th>\n",
              "      <th>hsc_b</th>\n",
              "      <th>hsc_s</th>\n",
              "      <th>degree_p</th>\n",
              "      <th>degree_t</th>\n",
              "      <th>workex</th>\n",
              "      <th>etest_p</th>\n",
              "      <th>specialisation</th>\n",
              "      <th>mba_p</th>\n",
              "      <th>status</th>\n",
              "      <th>salary</th>\n",
              "    </tr>\n",
              "  </thead>\n",
              "  <tbody>\n",
              "    <tr>\n",
              "      <th>0</th>\n",
              "      <td>0</td>\n",
              "      <td>67.00</td>\n",
              "      <td>Others</td>\n",
              "      <td>91.00</td>\n",
              "      <td>Others</td>\n",
              "      <td>Commerce</td>\n",
              "      <td>58.00</td>\n",
              "      <td>Sci&amp;Tech</td>\n",
              "      <td>0</td>\n",
              "      <td>55.0</td>\n",
              "      <td>Mkt&amp;HR</td>\n",
              "      <td>58.80</td>\n",
              "      <td>1</td>\n",
              "      <td>270000.0</td>\n",
              "    </tr>\n",
              "    <tr>\n",
              "      <th>1</th>\n",
              "      <td>0</td>\n",
              "      <td>79.33</td>\n",
              "      <td>Central</td>\n",
              "      <td>78.33</td>\n",
              "      <td>Others</td>\n",
              "      <td>Science</td>\n",
              "      <td>77.48</td>\n",
              "      <td>Sci&amp;Tech</td>\n",
              "      <td>1</td>\n",
              "      <td>86.5</td>\n",
              "      <td>Mkt&amp;Fin</td>\n",
              "      <td>66.28</td>\n",
              "      <td>1</td>\n",
              "      <td>200000.0</td>\n",
              "    </tr>\n",
              "    <tr>\n",
              "      <th>2</th>\n",
              "      <td>0</td>\n",
              "      <td>65.00</td>\n",
              "      <td>Central</td>\n",
              "      <td>68.00</td>\n",
              "      <td>Central</td>\n",
              "      <td>Arts</td>\n",
              "      <td>64.00</td>\n",
              "      <td>Comm&amp;Mgmt</td>\n",
              "      <td>0</td>\n",
              "      <td>75.0</td>\n",
              "      <td>Mkt&amp;Fin</td>\n",
              "      <td>57.80</td>\n",
              "      <td>1</td>\n",
              "      <td>250000.0</td>\n",
              "    </tr>\n",
              "    <tr>\n",
              "      <th>3</th>\n",
              "      <td>0</td>\n",
              "      <td>56.00</td>\n",
              "      <td>Central</td>\n",
              "      <td>52.00</td>\n",
              "      <td>Central</td>\n",
              "      <td>Science</td>\n",
              "      <td>52.00</td>\n",
              "      <td>Sci&amp;Tech</td>\n",
              "      <td>0</td>\n",
              "      <td>66.0</td>\n",
              "      <td>Mkt&amp;HR</td>\n",
              "      <td>59.43</td>\n",
              "      <td>0</td>\n",
              "      <td>0.0</td>\n",
              "    </tr>\n",
              "    <tr>\n",
              "      <th>4</th>\n",
              "      <td>0</td>\n",
              "      <td>85.80</td>\n",
              "      <td>Central</td>\n",
              "      <td>73.60</td>\n",
              "      <td>Central</td>\n",
              "      <td>Commerce</td>\n",
              "      <td>73.30</td>\n",
              "      <td>Comm&amp;Mgmt</td>\n",
              "      <td>0</td>\n",
              "      <td>96.8</td>\n",
              "      <td>Mkt&amp;Fin</td>\n",
              "      <td>55.50</td>\n",
              "      <td>1</td>\n",
              "      <td>425000.0</td>\n",
              "    </tr>\n",
              "    <tr>\n",
              "      <th>...</th>\n",
              "      <td>...</td>\n",
              "      <td>...</td>\n",
              "      <td>...</td>\n",
              "      <td>...</td>\n",
              "      <td>...</td>\n",
              "      <td>...</td>\n",
              "      <td>...</td>\n",
              "      <td>...</td>\n",
              "      <td>...</td>\n",
              "      <td>...</td>\n",
              "      <td>...</td>\n",
              "      <td>...</td>\n",
              "      <td>...</td>\n",
              "      <td>...</td>\n",
              "    </tr>\n",
              "    <tr>\n",
              "      <th>210</th>\n",
              "      <td>0</td>\n",
              "      <td>80.60</td>\n",
              "      <td>Others</td>\n",
              "      <td>82.00</td>\n",
              "      <td>Others</td>\n",
              "      <td>Commerce</td>\n",
              "      <td>77.60</td>\n",
              "      <td>Comm&amp;Mgmt</td>\n",
              "      <td>0</td>\n",
              "      <td>91.0</td>\n",
              "      <td>Mkt&amp;Fin</td>\n",
              "      <td>74.49</td>\n",
              "      <td>1</td>\n",
              "      <td>400000.0</td>\n",
              "    </tr>\n",
              "    <tr>\n",
              "      <th>211</th>\n",
              "      <td>0</td>\n",
              "      <td>58.00</td>\n",
              "      <td>Others</td>\n",
              "      <td>60.00</td>\n",
              "      <td>Others</td>\n",
              "      <td>Science</td>\n",
              "      <td>72.00</td>\n",
              "      <td>Sci&amp;Tech</td>\n",
              "      <td>0</td>\n",
              "      <td>74.0</td>\n",
              "      <td>Mkt&amp;Fin</td>\n",
              "      <td>53.62</td>\n",
              "      <td>1</td>\n",
              "      <td>275000.0</td>\n",
              "    </tr>\n",
              "    <tr>\n",
              "      <th>212</th>\n",
              "      <td>0</td>\n",
              "      <td>67.00</td>\n",
              "      <td>Others</td>\n",
              "      <td>67.00</td>\n",
              "      <td>Others</td>\n",
              "      <td>Commerce</td>\n",
              "      <td>73.00</td>\n",
              "      <td>Comm&amp;Mgmt</td>\n",
              "      <td>1</td>\n",
              "      <td>59.0</td>\n",
              "      <td>Mkt&amp;Fin</td>\n",
              "      <td>69.72</td>\n",
              "      <td>1</td>\n",
              "      <td>295000.0</td>\n",
              "    </tr>\n",
              "    <tr>\n",
              "      <th>213</th>\n",
              "      <td>1</td>\n",
              "      <td>74.00</td>\n",
              "      <td>Others</td>\n",
              "      <td>66.00</td>\n",
              "      <td>Others</td>\n",
              "      <td>Commerce</td>\n",
              "      <td>58.00</td>\n",
              "      <td>Comm&amp;Mgmt</td>\n",
              "      <td>0</td>\n",
              "      <td>70.0</td>\n",
              "      <td>Mkt&amp;HR</td>\n",
              "      <td>60.23</td>\n",
              "      <td>1</td>\n",
              "      <td>204000.0</td>\n",
              "    </tr>\n",
              "    <tr>\n",
              "      <th>214</th>\n",
              "      <td>0</td>\n",
              "      <td>62.00</td>\n",
              "      <td>Central</td>\n",
              "      <td>58.00</td>\n",
              "      <td>Others</td>\n",
              "      <td>Science</td>\n",
              "      <td>53.00</td>\n",
              "      <td>Comm&amp;Mgmt</td>\n",
              "      <td>0</td>\n",
              "      <td>89.0</td>\n",
              "      <td>Mkt&amp;HR</td>\n",
              "      <td>60.22</td>\n",
              "      <td>0</td>\n",
              "      <td>0.0</td>\n",
              "    </tr>\n",
              "  </tbody>\n",
              "</table>\n",
              "<p>215 rows × 14 columns</p>\n",
              "</div>"
            ],
            "text/plain": [
              "     gender  ssc_p    ssc_b  hsc_p  ... specialisation  mba_p  status    salary\n",
              "0         0  67.00   Others  91.00  ...         Mkt&HR  58.80       1  270000.0\n",
              "1         0  79.33  Central  78.33  ...        Mkt&Fin  66.28       1  200000.0\n",
              "2         0  65.00  Central  68.00  ...        Mkt&Fin  57.80       1  250000.0\n",
              "3         0  56.00  Central  52.00  ...         Mkt&HR  59.43       0       0.0\n",
              "4         0  85.80  Central  73.60  ...        Mkt&Fin  55.50       1  425000.0\n",
              "..      ...    ...      ...    ...  ...            ...    ...     ...       ...\n",
              "210       0  80.60   Others  82.00  ...        Mkt&Fin  74.49       1  400000.0\n",
              "211       0  58.00   Others  60.00  ...        Mkt&Fin  53.62       1  275000.0\n",
              "212       0  67.00   Others  67.00  ...        Mkt&Fin  69.72       1  295000.0\n",
              "213       1  74.00   Others  66.00  ...         Mkt&HR  60.23       1  204000.0\n",
              "214       0  62.00  Central  58.00  ...         Mkt&HR  60.22       0       0.0\n",
              "\n",
              "[215 rows x 14 columns]"
            ]
          },
          "metadata": {},
          "execution_count": 22
        }
      ]
    },
    {
      "cell_type": "markdown",
      "metadata": {
        "id": "MQvMUkYAHmZt"
      },
      "source": [
        "DATA PREPROCESSING"
      ]
    },
    {
      "cell_type": "markdown",
      "metadata": {
        "id": "ke7F6cp1I6y0"
      },
      "source": [
        "Label Encoding (for the categorical columns having only two types of classes)"
      ]
    },
    {
      "cell_type": "code",
      "metadata": {
        "id": "d5FPk6M0It3e",
        "colab": {
          "base_uri": "https://localhost:8080/",
          "height": 225
        },
        "outputId": "4bdd39d4-0463-439a-da04-48e43c2b71b4"
      },
      "source": [
        "from sklearn.preprocessing import LabelEncoder\n",
        "cols = ['workex','specialisation','status','ssc_b','hsc_b']\n",
        "df[cols]=df[cols].apply(LabelEncoder().fit_transform)\n",
        "df.head()"
      ],
      "execution_count": null,
      "outputs": [
        {
          "output_type": "execute_result",
          "data": {
            "text/html": [
              "<div>\n",
              "<style scoped>\n",
              "    .dataframe tbody tr th:only-of-type {\n",
              "        vertical-align: middle;\n",
              "    }\n",
              "\n",
              "    .dataframe tbody tr th {\n",
              "        vertical-align: top;\n",
              "    }\n",
              "\n",
              "    .dataframe thead th {\n",
              "        text-align: right;\n",
              "    }\n",
              "</style>\n",
              "<table border=\"1\" class=\"dataframe\">\n",
              "  <thead>\n",
              "    <tr style=\"text-align: right;\">\n",
              "      <th></th>\n",
              "      <th>gender</th>\n",
              "      <th>ssc_p</th>\n",
              "      <th>ssc_b</th>\n",
              "      <th>hsc_p</th>\n",
              "      <th>hsc_b</th>\n",
              "      <th>hsc_s</th>\n",
              "      <th>degree_p</th>\n",
              "      <th>degree_t</th>\n",
              "      <th>workex</th>\n",
              "      <th>etest_p</th>\n",
              "      <th>specialisation</th>\n",
              "      <th>mba_p</th>\n",
              "      <th>status</th>\n",
              "      <th>salary</th>\n",
              "    </tr>\n",
              "  </thead>\n",
              "  <tbody>\n",
              "    <tr>\n",
              "      <th>0</th>\n",
              "      <td>0</td>\n",
              "      <td>67.00</td>\n",
              "      <td>1</td>\n",
              "      <td>91.00</td>\n",
              "      <td>1</td>\n",
              "      <td>Commerce</td>\n",
              "      <td>58.00</td>\n",
              "      <td>Sci&amp;Tech</td>\n",
              "      <td>0</td>\n",
              "      <td>55.0</td>\n",
              "      <td>1</td>\n",
              "      <td>58.80</td>\n",
              "      <td>1</td>\n",
              "      <td>270000.0</td>\n",
              "    </tr>\n",
              "    <tr>\n",
              "      <th>1</th>\n",
              "      <td>0</td>\n",
              "      <td>79.33</td>\n",
              "      <td>0</td>\n",
              "      <td>78.33</td>\n",
              "      <td>1</td>\n",
              "      <td>Science</td>\n",
              "      <td>77.48</td>\n",
              "      <td>Sci&amp;Tech</td>\n",
              "      <td>1</td>\n",
              "      <td>86.5</td>\n",
              "      <td>0</td>\n",
              "      <td>66.28</td>\n",
              "      <td>1</td>\n",
              "      <td>200000.0</td>\n",
              "    </tr>\n",
              "    <tr>\n",
              "      <th>2</th>\n",
              "      <td>0</td>\n",
              "      <td>65.00</td>\n",
              "      <td>0</td>\n",
              "      <td>68.00</td>\n",
              "      <td>0</td>\n",
              "      <td>Arts</td>\n",
              "      <td>64.00</td>\n",
              "      <td>Comm&amp;Mgmt</td>\n",
              "      <td>0</td>\n",
              "      <td>75.0</td>\n",
              "      <td>0</td>\n",
              "      <td>57.80</td>\n",
              "      <td>1</td>\n",
              "      <td>250000.0</td>\n",
              "    </tr>\n",
              "    <tr>\n",
              "      <th>3</th>\n",
              "      <td>0</td>\n",
              "      <td>56.00</td>\n",
              "      <td>0</td>\n",
              "      <td>52.00</td>\n",
              "      <td>0</td>\n",
              "      <td>Science</td>\n",
              "      <td>52.00</td>\n",
              "      <td>Sci&amp;Tech</td>\n",
              "      <td>0</td>\n",
              "      <td>66.0</td>\n",
              "      <td>1</td>\n",
              "      <td>59.43</td>\n",
              "      <td>0</td>\n",
              "      <td>0.0</td>\n",
              "    </tr>\n",
              "    <tr>\n",
              "      <th>4</th>\n",
              "      <td>0</td>\n",
              "      <td>85.80</td>\n",
              "      <td>0</td>\n",
              "      <td>73.60</td>\n",
              "      <td>0</td>\n",
              "      <td>Commerce</td>\n",
              "      <td>73.30</td>\n",
              "      <td>Comm&amp;Mgmt</td>\n",
              "      <td>0</td>\n",
              "      <td>96.8</td>\n",
              "      <td>0</td>\n",
              "      <td>55.50</td>\n",
              "      <td>1</td>\n",
              "      <td>425000.0</td>\n",
              "    </tr>\n",
              "  </tbody>\n",
              "</table>\n",
              "</div>"
            ],
            "text/plain": [
              "   gender  ssc_p  ssc_b  hsc_p  ...  specialisation  mba_p  status    salary\n",
              "0       0  67.00      1  91.00  ...               1  58.80       1  270000.0\n",
              "1       0  79.33      0  78.33  ...               0  66.28       1  200000.0\n",
              "2       0  65.00      0  68.00  ...               0  57.80       1  250000.0\n",
              "3       0  56.00      0  52.00  ...               1  59.43       0       0.0\n",
              "4       0  85.80      0  73.60  ...               0  55.50       1  425000.0\n",
              "\n",
              "[5 rows x 14 columns]"
            ]
          },
          "metadata": {},
          "execution_count": 23
        }
      ]
    },
    {
      "cell_type": "markdown",
      "metadata": {
        "id": "KkKvtQahJOdV"
      },
      "source": [
        "One-hot Encoding (for categorical columns having more than two types of classes)"
      ]
    },
    {
      "cell_type": "code",
      "metadata": {
        "id": "ypx6IFg9I2Gq",
        "colab": {
          "base_uri": "https://localhost:8080/",
          "height": 382
        },
        "outputId": "4b871fe0-4e7c-4d1e-f89c-df4e60725da3"
      },
      "source": [
        "dummy_hsc_s=pd.get_dummies(df['hsc_s'],prefix='hsc')\n",
        "dummy_degree_t=pd.get_dummies(df['degree_t'],prefix='degree')\n",
        "\n",
        "df1=pd.concat([df,dummy_hsc_s,dummy_degree_t],axis=1)\n",
        "df1.drop(['hsc_s','degree_t','hsc_b','ssc_b','hsc_s','degree_t'],axis=1,inplace=True)\n",
        "df1.head(10)"
      ],
      "execution_count": null,
      "outputs": [
        {
          "output_type": "execute_result",
          "data": {
            "text/html": [
              "<div>\n",
              "<style scoped>\n",
              "    .dataframe tbody tr th:only-of-type {\n",
              "        vertical-align: middle;\n",
              "    }\n",
              "\n",
              "    .dataframe tbody tr th {\n",
              "        vertical-align: top;\n",
              "    }\n",
              "\n",
              "    .dataframe thead th {\n",
              "        text-align: right;\n",
              "    }\n",
              "</style>\n",
              "<table border=\"1\" class=\"dataframe\">\n",
              "  <thead>\n",
              "    <tr style=\"text-align: right;\">\n",
              "      <th></th>\n",
              "      <th>gender</th>\n",
              "      <th>ssc_p</th>\n",
              "      <th>hsc_p</th>\n",
              "      <th>degree_p</th>\n",
              "      <th>workex</th>\n",
              "      <th>etest_p</th>\n",
              "      <th>specialisation</th>\n",
              "      <th>mba_p</th>\n",
              "      <th>status</th>\n",
              "      <th>salary</th>\n",
              "      <th>hsc_Arts</th>\n",
              "      <th>hsc_Commerce</th>\n",
              "      <th>hsc_Science</th>\n",
              "      <th>degree_Comm&amp;Mgmt</th>\n",
              "      <th>degree_Others</th>\n",
              "      <th>degree_Sci&amp;Tech</th>\n",
              "    </tr>\n",
              "  </thead>\n",
              "  <tbody>\n",
              "    <tr>\n",
              "      <th>0</th>\n",
              "      <td>0</td>\n",
              "      <td>67.00</td>\n",
              "      <td>91.00</td>\n",
              "      <td>58.00</td>\n",
              "      <td>0</td>\n",
              "      <td>55.00</td>\n",
              "      <td>1</td>\n",
              "      <td>58.80</td>\n",
              "      <td>1</td>\n",
              "      <td>270000.0</td>\n",
              "      <td>0</td>\n",
              "      <td>1</td>\n",
              "      <td>0</td>\n",
              "      <td>0</td>\n",
              "      <td>0</td>\n",
              "      <td>1</td>\n",
              "    </tr>\n",
              "    <tr>\n",
              "      <th>1</th>\n",
              "      <td>0</td>\n",
              "      <td>79.33</td>\n",
              "      <td>78.33</td>\n",
              "      <td>77.48</td>\n",
              "      <td>1</td>\n",
              "      <td>86.50</td>\n",
              "      <td>0</td>\n",
              "      <td>66.28</td>\n",
              "      <td>1</td>\n",
              "      <td>200000.0</td>\n",
              "      <td>0</td>\n",
              "      <td>0</td>\n",
              "      <td>1</td>\n",
              "      <td>0</td>\n",
              "      <td>0</td>\n",
              "      <td>1</td>\n",
              "    </tr>\n",
              "    <tr>\n",
              "      <th>2</th>\n",
              "      <td>0</td>\n",
              "      <td>65.00</td>\n",
              "      <td>68.00</td>\n",
              "      <td>64.00</td>\n",
              "      <td>0</td>\n",
              "      <td>75.00</td>\n",
              "      <td>0</td>\n",
              "      <td>57.80</td>\n",
              "      <td>1</td>\n",
              "      <td>250000.0</td>\n",
              "      <td>1</td>\n",
              "      <td>0</td>\n",
              "      <td>0</td>\n",
              "      <td>1</td>\n",
              "      <td>0</td>\n",
              "      <td>0</td>\n",
              "    </tr>\n",
              "    <tr>\n",
              "      <th>3</th>\n",
              "      <td>0</td>\n",
              "      <td>56.00</td>\n",
              "      <td>52.00</td>\n",
              "      <td>52.00</td>\n",
              "      <td>0</td>\n",
              "      <td>66.00</td>\n",
              "      <td>1</td>\n",
              "      <td>59.43</td>\n",
              "      <td>0</td>\n",
              "      <td>0.0</td>\n",
              "      <td>0</td>\n",
              "      <td>0</td>\n",
              "      <td>1</td>\n",
              "      <td>0</td>\n",
              "      <td>0</td>\n",
              "      <td>1</td>\n",
              "    </tr>\n",
              "    <tr>\n",
              "      <th>4</th>\n",
              "      <td>0</td>\n",
              "      <td>85.80</td>\n",
              "      <td>73.60</td>\n",
              "      <td>73.30</td>\n",
              "      <td>0</td>\n",
              "      <td>96.80</td>\n",
              "      <td>0</td>\n",
              "      <td>55.50</td>\n",
              "      <td>1</td>\n",
              "      <td>425000.0</td>\n",
              "      <td>0</td>\n",
              "      <td>1</td>\n",
              "      <td>0</td>\n",
              "      <td>1</td>\n",
              "      <td>0</td>\n",
              "      <td>0</td>\n",
              "    </tr>\n",
              "    <tr>\n",
              "      <th>5</th>\n",
              "      <td>0</td>\n",
              "      <td>55.00</td>\n",
              "      <td>49.80</td>\n",
              "      <td>67.25</td>\n",
              "      <td>1</td>\n",
              "      <td>55.00</td>\n",
              "      <td>0</td>\n",
              "      <td>51.58</td>\n",
              "      <td>0</td>\n",
              "      <td>0.0</td>\n",
              "      <td>0</td>\n",
              "      <td>0</td>\n",
              "      <td>1</td>\n",
              "      <td>0</td>\n",
              "      <td>0</td>\n",
              "      <td>1</td>\n",
              "    </tr>\n",
              "    <tr>\n",
              "      <th>6</th>\n",
              "      <td>1</td>\n",
              "      <td>46.00</td>\n",
              "      <td>49.20</td>\n",
              "      <td>79.00</td>\n",
              "      <td>0</td>\n",
              "      <td>74.28</td>\n",
              "      <td>0</td>\n",
              "      <td>53.29</td>\n",
              "      <td>0</td>\n",
              "      <td>0.0</td>\n",
              "      <td>0</td>\n",
              "      <td>1</td>\n",
              "      <td>0</td>\n",
              "      <td>1</td>\n",
              "      <td>0</td>\n",
              "      <td>0</td>\n",
              "    </tr>\n",
              "    <tr>\n",
              "      <th>7</th>\n",
              "      <td>0</td>\n",
              "      <td>82.00</td>\n",
              "      <td>64.00</td>\n",
              "      <td>66.00</td>\n",
              "      <td>1</td>\n",
              "      <td>67.00</td>\n",
              "      <td>0</td>\n",
              "      <td>62.14</td>\n",
              "      <td>1</td>\n",
              "      <td>252000.0</td>\n",
              "      <td>0</td>\n",
              "      <td>0</td>\n",
              "      <td>1</td>\n",
              "      <td>0</td>\n",
              "      <td>0</td>\n",
              "      <td>1</td>\n",
              "    </tr>\n",
              "    <tr>\n",
              "      <th>8</th>\n",
              "      <td>0</td>\n",
              "      <td>73.00</td>\n",
              "      <td>79.00</td>\n",
              "      <td>72.00</td>\n",
              "      <td>0</td>\n",
              "      <td>91.34</td>\n",
              "      <td>0</td>\n",
              "      <td>61.29</td>\n",
              "      <td>1</td>\n",
              "      <td>231000.0</td>\n",
              "      <td>0</td>\n",
              "      <td>1</td>\n",
              "      <td>0</td>\n",
              "      <td>1</td>\n",
              "      <td>0</td>\n",
              "      <td>0</td>\n",
              "    </tr>\n",
              "    <tr>\n",
              "      <th>9</th>\n",
              "      <td>0</td>\n",
              "      <td>58.00</td>\n",
              "      <td>70.00</td>\n",
              "      <td>61.00</td>\n",
              "      <td>0</td>\n",
              "      <td>54.00</td>\n",
              "      <td>0</td>\n",
              "      <td>52.21</td>\n",
              "      <td>0</td>\n",
              "      <td>0.0</td>\n",
              "      <td>0</td>\n",
              "      <td>1</td>\n",
              "      <td>0</td>\n",
              "      <td>1</td>\n",
              "      <td>0</td>\n",
              "      <td>0</td>\n",
              "    </tr>\n",
              "  </tbody>\n",
              "</table>\n",
              "</div>"
            ],
            "text/plain": [
              "   gender  ssc_p  hsc_p  ...  degree_Comm&Mgmt  degree_Others  degree_Sci&Tech\n",
              "0       0  67.00  91.00  ...                 0              0                1\n",
              "1       0  79.33  78.33  ...                 0              0                1\n",
              "2       0  65.00  68.00  ...                 1              0                0\n",
              "3       0  56.00  52.00  ...                 0              0                1\n",
              "4       0  85.80  73.60  ...                 1              0                0\n",
              "5       0  55.00  49.80  ...                 0              0                1\n",
              "6       1  46.00  49.20  ...                 1              0                0\n",
              "7       0  82.00  64.00  ...                 0              0                1\n",
              "8       0  73.00  79.00  ...                 1              0                0\n",
              "9       0  58.00  70.00  ...                 1              0                0\n",
              "\n",
              "[10 rows x 16 columns]"
            ]
          },
          "metadata": {},
          "execution_count": 24
        }
      ]
    },
    {
      "cell_type": "code",
      "metadata": {
        "id": "2CtWrjY48J4X"
      },
      "source": [
        "df1.to_csv(\"/content/drive/MyDrive/campus placement/ml-with-python-course-project 2/preprocess_data.csv\")"
      ],
      "execution_count": null,
      "outputs": []
    },
    {
      "cell_type": "code",
      "metadata": {
        "id": "GvYYmrELPs5M",
        "colab": {
          "base_uri": "https://localhost:8080/",
          "height": 442
        },
        "outputId": "ba93d749-a91a-46bd-ed47-f479d58ba4cc"
      },
      "source": [
        "df1"
      ],
      "execution_count": null,
      "outputs": [
        {
          "output_type": "execute_result",
          "data": {
            "text/html": [
              "<div>\n",
              "<style scoped>\n",
              "    .dataframe tbody tr th:only-of-type {\n",
              "        vertical-align: middle;\n",
              "    }\n",
              "\n",
              "    .dataframe tbody tr th {\n",
              "        vertical-align: top;\n",
              "    }\n",
              "\n",
              "    .dataframe thead th {\n",
              "        text-align: right;\n",
              "    }\n",
              "</style>\n",
              "<table border=\"1\" class=\"dataframe\">\n",
              "  <thead>\n",
              "    <tr style=\"text-align: right;\">\n",
              "      <th></th>\n",
              "      <th>gender</th>\n",
              "      <th>ssc_p</th>\n",
              "      <th>hsc_p</th>\n",
              "      <th>degree_p</th>\n",
              "      <th>workex</th>\n",
              "      <th>etest_p</th>\n",
              "      <th>specialisation</th>\n",
              "      <th>mba_p</th>\n",
              "      <th>status</th>\n",
              "      <th>salary</th>\n",
              "      <th>hsc_Arts</th>\n",
              "      <th>hsc_Commerce</th>\n",
              "      <th>hsc_Science</th>\n",
              "      <th>degree_Comm&amp;Mgmt</th>\n",
              "      <th>degree_Others</th>\n",
              "      <th>degree_Sci&amp;Tech</th>\n",
              "    </tr>\n",
              "  </thead>\n",
              "  <tbody>\n",
              "    <tr>\n",
              "      <th>0</th>\n",
              "      <td>0</td>\n",
              "      <td>67.00</td>\n",
              "      <td>91.00</td>\n",
              "      <td>58.00</td>\n",
              "      <td>0</td>\n",
              "      <td>55.0</td>\n",
              "      <td>1</td>\n",
              "      <td>58.80</td>\n",
              "      <td>1</td>\n",
              "      <td>270000.0</td>\n",
              "      <td>0</td>\n",
              "      <td>1</td>\n",
              "      <td>0</td>\n",
              "      <td>0</td>\n",
              "      <td>0</td>\n",
              "      <td>1</td>\n",
              "    </tr>\n",
              "    <tr>\n",
              "      <th>1</th>\n",
              "      <td>0</td>\n",
              "      <td>79.33</td>\n",
              "      <td>78.33</td>\n",
              "      <td>77.48</td>\n",
              "      <td>1</td>\n",
              "      <td>86.5</td>\n",
              "      <td>0</td>\n",
              "      <td>66.28</td>\n",
              "      <td>1</td>\n",
              "      <td>200000.0</td>\n",
              "      <td>0</td>\n",
              "      <td>0</td>\n",
              "      <td>1</td>\n",
              "      <td>0</td>\n",
              "      <td>0</td>\n",
              "      <td>1</td>\n",
              "    </tr>\n",
              "    <tr>\n",
              "      <th>2</th>\n",
              "      <td>0</td>\n",
              "      <td>65.00</td>\n",
              "      <td>68.00</td>\n",
              "      <td>64.00</td>\n",
              "      <td>0</td>\n",
              "      <td>75.0</td>\n",
              "      <td>0</td>\n",
              "      <td>57.80</td>\n",
              "      <td>1</td>\n",
              "      <td>250000.0</td>\n",
              "      <td>1</td>\n",
              "      <td>0</td>\n",
              "      <td>0</td>\n",
              "      <td>1</td>\n",
              "      <td>0</td>\n",
              "      <td>0</td>\n",
              "    </tr>\n",
              "    <tr>\n",
              "      <th>3</th>\n",
              "      <td>0</td>\n",
              "      <td>56.00</td>\n",
              "      <td>52.00</td>\n",
              "      <td>52.00</td>\n",
              "      <td>0</td>\n",
              "      <td>66.0</td>\n",
              "      <td>1</td>\n",
              "      <td>59.43</td>\n",
              "      <td>0</td>\n",
              "      <td>0.0</td>\n",
              "      <td>0</td>\n",
              "      <td>0</td>\n",
              "      <td>1</td>\n",
              "      <td>0</td>\n",
              "      <td>0</td>\n",
              "      <td>1</td>\n",
              "    </tr>\n",
              "    <tr>\n",
              "      <th>4</th>\n",
              "      <td>0</td>\n",
              "      <td>85.80</td>\n",
              "      <td>73.60</td>\n",
              "      <td>73.30</td>\n",
              "      <td>0</td>\n",
              "      <td>96.8</td>\n",
              "      <td>0</td>\n",
              "      <td>55.50</td>\n",
              "      <td>1</td>\n",
              "      <td>425000.0</td>\n",
              "      <td>0</td>\n",
              "      <td>1</td>\n",
              "      <td>0</td>\n",
              "      <td>1</td>\n",
              "      <td>0</td>\n",
              "      <td>0</td>\n",
              "    </tr>\n",
              "    <tr>\n",
              "      <th>...</th>\n",
              "      <td>...</td>\n",
              "      <td>...</td>\n",
              "      <td>...</td>\n",
              "      <td>...</td>\n",
              "      <td>...</td>\n",
              "      <td>...</td>\n",
              "      <td>...</td>\n",
              "      <td>...</td>\n",
              "      <td>...</td>\n",
              "      <td>...</td>\n",
              "      <td>...</td>\n",
              "      <td>...</td>\n",
              "      <td>...</td>\n",
              "      <td>...</td>\n",
              "      <td>...</td>\n",
              "      <td>...</td>\n",
              "    </tr>\n",
              "    <tr>\n",
              "      <th>210</th>\n",
              "      <td>0</td>\n",
              "      <td>80.60</td>\n",
              "      <td>82.00</td>\n",
              "      <td>77.60</td>\n",
              "      <td>0</td>\n",
              "      <td>91.0</td>\n",
              "      <td>0</td>\n",
              "      <td>74.49</td>\n",
              "      <td>1</td>\n",
              "      <td>400000.0</td>\n",
              "      <td>0</td>\n",
              "      <td>1</td>\n",
              "      <td>0</td>\n",
              "      <td>1</td>\n",
              "      <td>0</td>\n",
              "      <td>0</td>\n",
              "    </tr>\n",
              "    <tr>\n",
              "      <th>211</th>\n",
              "      <td>0</td>\n",
              "      <td>58.00</td>\n",
              "      <td>60.00</td>\n",
              "      <td>72.00</td>\n",
              "      <td>0</td>\n",
              "      <td>74.0</td>\n",
              "      <td>0</td>\n",
              "      <td>53.62</td>\n",
              "      <td>1</td>\n",
              "      <td>275000.0</td>\n",
              "      <td>0</td>\n",
              "      <td>0</td>\n",
              "      <td>1</td>\n",
              "      <td>0</td>\n",
              "      <td>0</td>\n",
              "      <td>1</td>\n",
              "    </tr>\n",
              "    <tr>\n",
              "      <th>212</th>\n",
              "      <td>0</td>\n",
              "      <td>67.00</td>\n",
              "      <td>67.00</td>\n",
              "      <td>73.00</td>\n",
              "      <td>1</td>\n",
              "      <td>59.0</td>\n",
              "      <td>0</td>\n",
              "      <td>69.72</td>\n",
              "      <td>1</td>\n",
              "      <td>295000.0</td>\n",
              "      <td>0</td>\n",
              "      <td>1</td>\n",
              "      <td>0</td>\n",
              "      <td>1</td>\n",
              "      <td>0</td>\n",
              "      <td>0</td>\n",
              "    </tr>\n",
              "    <tr>\n",
              "      <th>213</th>\n",
              "      <td>1</td>\n",
              "      <td>74.00</td>\n",
              "      <td>66.00</td>\n",
              "      <td>58.00</td>\n",
              "      <td>0</td>\n",
              "      <td>70.0</td>\n",
              "      <td>1</td>\n",
              "      <td>60.23</td>\n",
              "      <td>1</td>\n",
              "      <td>204000.0</td>\n",
              "      <td>0</td>\n",
              "      <td>1</td>\n",
              "      <td>0</td>\n",
              "      <td>1</td>\n",
              "      <td>0</td>\n",
              "      <td>0</td>\n",
              "    </tr>\n",
              "    <tr>\n",
              "      <th>214</th>\n",
              "      <td>0</td>\n",
              "      <td>62.00</td>\n",
              "      <td>58.00</td>\n",
              "      <td>53.00</td>\n",
              "      <td>0</td>\n",
              "      <td>89.0</td>\n",
              "      <td>1</td>\n",
              "      <td>60.22</td>\n",
              "      <td>0</td>\n",
              "      <td>0.0</td>\n",
              "      <td>0</td>\n",
              "      <td>0</td>\n",
              "      <td>1</td>\n",
              "      <td>1</td>\n",
              "      <td>0</td>\n",
              "      <td>0</td>\n",
              "    </tr>\n",
              "  </tbody>\n",
              "</table>\n",
              "<p>215 rows × 16 columns</p>\n",
              "</div>"
            ],
            "text/plain": [
              "     gender  ssc_p  hsc_p  ...  degree_Comm&Mgmt  degree_Others  degree_Sci&Tech\n",
              "0         0  67.00  91.00  ...                 0              0                1\n",
              "1         0  79.33  78.33  ...                 0              0                1\n",
              "2         0  65.00  68.00  ...                 1              0                0\n",
              "3         0  56.00  52.00  ...                 0              0                1\n",
              "4         0  85.80  73.60  ...                 1              0                0\n",
              "..      ...    ...    ...  ...               ...            ...              ...\n",
              "210       0  80.60  82.00  ...                 1              0                0\n",
              "211       0  58.00  60.00  ...                 0              0                1\n",
              "212       0  67.00  67.00  ...                 1              0                0\n",
              "213       1  74.00  66.00  ...                 1              0                0\n",
              "214       0  62.00  58.00  ...                 1              0                0\n",
              "\n",
              "[215 rows x 16 columns]"
            ]
          },
          "metadata": {},
          "execution_count": 26
        }
      ]
    },
    {
      "cell_type": "code",
      "metadata": {
        "id": "8UXFFrufGy-k"
      },
      "source": [
        "x = df1.drop(['status'],axis = 1)\n",
        "y = df1.status"
      ],
      "execution_count": null,
      "outputs": []
    },
    {
      "cell_type": "code",
      "metadata": {
        "colab": {
          "base_uri": "https://localhost:8080/"
        },
        "id": "zpP5U3PqyZ1o",
        "outputId": "26cc2e9d-8876-4deb-c933-c65d58ef51d9"
      },
      "source": [
        "x.info()"
      ],
      "execution_count": null,
      "outputs": [
        {
          "output_type": "stream",
          "name": "stdout",
          "text": [
            "<class 'pandas.core.frame.DataFrame'>\n",
            "RangeIndex: 215 entries, 0 to 214\n",
            "Data columns (total 15 columns):\n",
            " #   Column            Non-Null Count  Dtype  \n",
            "---  ------            --------------  -----  \n",
            " 0   gender            215 non-null    int64  \n",
            " 1   ssc_p             215 non-null    float64\n",
            " 2   hsc_p             215 non-null    float64\n",
            " 3   degree_p          215 non-null    float64\n",
            " 4   workex            215 non-null    int64  \n",
            " 5   etest_p           215 non-null    float64\n",
            " 6   specialisation    215 non-null    int64  \n",
            " 7   mba_p             215 non-null    float64\n",
            " 8   salary            215 non-null    float64\n",
            " 9   hsc_Arts          215 non-null    uint8  \n",
            " 10  hsc_Commerce      215 non-null    uint8  \n",
            " 11  hsc_Science       215 non-null    uint8  \n",
            " 12  degree_Comm&Mgmt  215 non-null    uint8  \n",
            " 13  degree_Others     215 non-null    uint8  \n",
            " 14  degree_Sci&Tech   215 non-null    uint8  \n",
            "dtypes: float64(6), int64(3), uint8(6)\n",
            "memory usage: 16.5 KB\n"
          ]
        }
      ]
    },
    {
      "cell_type": "code",
      "metadata": {
        "id": "DhRIRK4YH7fs"
      },
      "source": [
        "X_train,x_test,Y_train,y_test = train_test_split(x,y,train_size = 0.8,random_state = 1)"
      ],
      "execution_count": null,
      "outputs": []
    },
    {
      "cell_type": "code",
      "metadata": {
        "id": "RUrWWB_gIIlk",
        "colab": {
          "base_uri": "https://localhost:8080/"
        },
        "outputId": "8516a680-2b7e-467b-e12f-25a7af0e83dd"
      },
      "source": [
        "print('y',y.value_counts(),sep='\\n')\n",
        "print()\n",
        "print('y_train',Y_train.value_counts(),sep='\\n')"
      ],
      "execution_count": null,
      "outputs": [
        {
          "output_type": "stream",
          "name": "stdout",
          "text": [
            "y\n",
            "1    148\n",
            "0     67\n",
            "Name: status, dtype: int64\n",
            "\n",
            "y_train\n",
            "1    120\n",
            "0     52\n",
            "Name: status, dtype: int64\n"
          ]
        }
      ]
    },
    {
      "cell_type": "markdown",
      "metadata": {
        "id": "jAHv2-WaIUCR"
      },
      "source": [
        "Dataset is imbalanced. Problem is that models trained on imbalanced datasets often have poor results when they have to generalize."
      ]
    },
    {
      "cell_type": "markdown",
      "metadata": {
        "id": "1lOr9dcNIYxU"
      },
      "source": [
        "SMOTE resampling on training set"
      ]
    },
    {
      "cell_type": "code",
      "metadata": {
        "id": "4QekmTKAIMEp"
      },
      "source": [
        "from imblearn.over_sampling import SMOTE\n",
        "\n"
      ],
      "execution_count": null,
      "outputs": []
    },
    {
      "cell_type": "code",
      "metadata": {
        "colab": {
          "base_uri": "https://localhost:8080/"
        },
        "id": "x-35BZV6XfP9",
        "outputId": "4209835f-6f52-4c42-f058-8bc45e35caac"
      },
      "source": [
        "pip install mlrose"
      ],
      "execution_count": null,
      "outputs": [
        {
          "output_type": "stream",
          "name": "stdout",
          "text": [
            "Requirement already satisfied: mlrose in /usr/local/lib/python3.7/dist-packages (1.3.0)\n",
            "Requirement already satisfied: numpy in /usr/local/lib/python3.7/dist-packages (from mlrose) (1.19.5)\n",
            "Requirement already satisfied: scipy in /usr/local/lib/python3.7/dist-packages (from mlrose) (1.4.1)\n",
            "Requirement already satisfied: sklearn in /usr/local/lib/python3.7/dist-packages (from mlrose) (0.0)\n",
            "Requirement already satisfied: scikit-learn in /usr/local/lib/python3.7/dist-packages (from sklearn->mlrose) (0.22.2.post1)\n",
            "Requirement already satisfied: joblib>=0.11 in /usr/local/lib/python3.7/dist-packages (from scikit-learn->sklearn->mlrose) (1.0.1)\n"
          ]
        }
      ]
    },
    {
      "cell_type": "code",
      "metadata": {
        "id": "p4K-Qbfx6f2i"
      },
      "source": [
        "import six\n",
        "import sys\n",
        "sys.modules['sklearn.externals.six'] = six\n",
        "import mlrose"
      ],
      "execution_count": null,
      "outputs": []
    },
    {
      "cell_type": "code",
      "metadata": {
        "colab": {
          "base_uri": "https://localhost:8080/"
        },
        "id": "y56zC8f765b3",
        "outputId": "72f224cc-17f9-4354-fee8-c0e10713b33f"
      },
      "source": [
        "pip install mlrose"
      ],
      "execution_count": null,
      "outputs": [
        {
          "output_type": "stream",
          "name": "stdout",
          "text": [
            "Requirement already satisfied: mlrose in /usr/local/lib/python3.7/dist-packages (1.3.0)\n",
            "Requirement already satisfied: sklearn in /usr/local/lib/python3.7/dist-packages (from mlrose) (0.0)\n",
            "Requirement already satisfied: numpy in /usr/local/lib/python3.7/dist-packages (from mlrose) (1.19.5)\n",
            "Requirement already satisfied: scipy in /usr/local/lib/python3.7/dist-packages (from mlrose) (1.4.1)\n",
            "Requirement already satisfied: scikit-learn in /usr/local/lib/python3.7/dist-packages (from sklearn->mlrose) (0.22.2.post1)\n",
            "Requirement already satisfied: joblib>=0.11 in /usr/local/lib/python3.7/dist-packages (from scikit-learn->sklearn->mlrose) (1.0.1)\n"
          ]
        }
      ]
    },
    {
      "cell_type": "code",
      "metadata": {
        "id": "-bNN11E77Og7"
      },
      "source": [
        "import sklearn.neighbors._base\n",
        "sys.modules['sklearn.neighbors.base'] = sklearn.neighbors._base"
      ],
      "execution_count": null,
      "outputs": []
    },
    {
      "cell_type": "code",
      "metadata": {
        "id": "jzvkA2e_IbRa"
      },
      "source": [
        "smote= SMOTE(random_state=42)\n",
        "x_train,y_train = smote.fit_resample(X_train, Y_train)"
      ],
      "execution_count": null,
      "outputs": []
    },
    {
      "cell_type": "code",
      "metadata": {
        "id": "jfM_joYXIgLU"
      },
      "source": [
        "x_train = pd.DataFrame(x_train)\n",
        "y_train = pd.DataFrame(y_train)"
      ],
      "execution_count": null,
      "outputs": []
    },
    {
      "cell_type": "code",
      "metadata": {
        "id": "y4WRG50fT2sy",
        "colab": {
          "base_uri": "https://localhost:8080/"
        },
        "outputId": "651a5a77-2265-4903-e41f-4e0d286a1366"
      },
      "source": [
        "y_train.value_counts()"
      ],
      "execution_count": null,
      "outputs": [
        {
          "output_type": "execute_result",
          "data": {
            "text/plain": [
              "1    120\n",
              "0    120\n",
              "dtype: int64"
            ]
          },
          "metadata": {},
          "execution_count": 38
        }
      ]
    },
    {
      "cell_type": "code",
      "metadata": {
        "id": "DZe5Rs4AT_uL",
        "colab": {
          "base_uri": "https://localhost:8080/",
          "height": 422
        },
        "outputId": "749001ab-849c-4c54-fde2-8a33fb04e5b2"
      },
      "source": [
        "y_train"
      ],
      "execution_count": null,
      "outputs": [
        {
          "output_type": "execute_result",
          "data": {
            "text/html": [
              "<div>\n",
              "<style scoped>\n",
              "    .dataframe tbody tr th:only-of-type {\n",
              "        vertical-align: middle;\n",
              "    }\n",
              "\n",
              "    .dataframe tbody tr th {\n",
              "        vertical-align: top;\n",
              "    }\n",
              "\n",
              "    .dataframe thead th {\n",
              "        text-align: right;\n",
              "    }\n",
              "</style>\n",
              "<table border=\"1\" class=\"dataframe\">\n",
              "  <thead>\n",
              "    <tr style=\"text-align: right;\">\n",
              "      <th></th>\n",
              "      <th>0</th>\n",
              "    </tr>\n",
              "  </thead>\n",
              "  <tbody>\n",
              "    <tr>\n",
              "      <th>0</th>\n",
              "      <td>1</td>\n",
              "    </tr>\n",
              "    <tr>\n",
              "      <th>1</th>\n",
              "      <td>1</td>\n",
              "    </tr>\n",
              "    <tr>\n",
              "      <th>2</th>\n",
              "      <td>1</td>\n",
              "    </tr>\n",
              "    <tr>\n",
              "      <th>3</th>\n",
              "      <td>1</td>\n",
              "    </tr>\n",
              "    <tr>\n",
              "      <th>4</th>\n",
              "      <td>1</td>\n",
              "    </tr>\n",
              "    <tr>\n",
              "      <th>...</th>\n",
              "      <td>...</td>\n",
              "    </tr>\n",
              "    <tr>\n",
              "      <th>235</th>\n",
              "      <td>0</td>\n",
              "    </tr>\n",
              "    <tr>\n",
              "      <th>236</th>\n",
              "      <td>0</td>\n",
              "    </tr>\n",
              "    <tr>\n",
              "      <th>237</th>\n",
              "      <td>0</td>\n",
              "    </tr>\n",
              "    <tr>\n",
              "      <th>238</th>\n",
              "      <td>0</td>\n",
              "    </tr>\n",
              "    <tr>\n",
              "      <th>239</th>\n",
              "      <td>0</td>\n",
              "    </tr>\n",
              "  </tbody>\n",
              "</table>\n",
              "<p>240 rows × 1 columns</p>\n",
              "</div>"
            ],
            "text/plain": [
              "     0\n",
              "0    1\n",
              "1    1\n",
              "2    1\n",
              "3    1\n",
              "4    1\n",
              "..  ..\n",
              "235  0\n",
              "236  0\n",
              "237  0\n",
              "238  0\n",
              "239  0\n",
              "\n",
              "[240 rows x 1 columns]"
            ]
          },
          "metadata": {},
          "execution_count": 39
        }
      ]
    },
    {
      "cell_type": "code",
      "metadata": {
        "id": "j0CR36zKUQsC"
      },
      "source": [
        "#importing metrics\n",
        "from sklearn.metrics import accuracy_score, confusion_matrix, roc_auc_score, ConfusionMatrixDisplay, precision_score, recall_score, f1_score, classification_report, roc_curve, plot_roc_curve, auc, precision_recall_curve, plot_precision_recall_curve, average_precision_score\n",
        "from sklearn.model_selection import cross_val_score"
      ],
      "execution_count": null,
      "outputs": []
    },
    {
      "cell_type": "markdown",
      "metadata": {
        "id": "WY8BtHUQVOWb"
      },
      "source": [
        "Logistic Regression"
      ]
    },
    {
      "cell_type": "code",
      "metadata": {
        "id": "zbocOcwmUfJc"
      },
      "source": [
        "warnings.filter = warnings.simplefilter('ignore')\n",
        "logreg = LogisticRegression()\n",
        "logreg.fit(x_train, y_train)\n",
        "y_pred = logreg.predict(x_test)\n"
      ],
      "execution_count": null,
      "outputs": []
    },
    {
      "cell_type": "code",
      "metadata": {
        "id": "fofuf9PZVS4k",
        "colab": {
          "base_uri": "https://localhost:8080/"
        },
        "outputId": "e86de879-a027-48b1-97eb-1ef09533347c"
      },
      "source": [
        "print('Accuracy of logistic regression classifier on test set: {:.3f}'.format(logreg.score(x_test, y_test)))\n",
        "print('Accuracy of logistic regression classifier on train set: {:.3f}'.format(logreg.score(x_train, y_train)))"
      ],
      "execution_count": null,
      "outputs": [
        {
          "output_type": "stream",
          "name": "stdout",
          "text": [
            "Accuracy of logistic regression classifier on test set: 1.000\n",
            "Accuracy of logistic regression classifier on train set: 1.000\n"
          ]
        }
      ]
    },
    {
      "cell_type": "markdown",
      "metadata": {
        "id": "yqcd14jaVzVC"
      },
      "source": [
        "Hyperparameter Tuning for Logistic Regression"
      ]
    },
    {
      "cell_type": "code",
      "metadata": {
        "id": "BABxs-AbVx1e"
      },
      "source": [
        "param_grid=[{'penalty':['l1','l2','elasticnet','none'],\n",
        "             'C':np.logspace(-4,4,20),\n",
        "             'solver':['lbfgs','newton-cg','liblinear','sag','saga'],\n",
        "             'max_iter':[100,200,1000,2500,5000]}]"
      ],
      "execution_count": null,
      "outputs": []
    },
    {
      "cell_type": "code",
      "metadata": {
        "id": "B9qZQ-DrV2Cl"
      },
      "source": [
        "from sklearn.model_selection import GridSearchCV\n",
        "clf=GridSearchCV(logreg,param_grid,cv=3,verbose=True,n_jobs=-1)"
      ],
      "execution_count": null,
      "outputs": []
    },
    {
      "cell_type": "code",
      "metadata": {
        "id": "uo_AXFfhV4zL",
        "colab": {
          "base_uri": "https://localhost:8080/"
        },
        "outputId": "9f86b079-3cb5-4210-b366-38751a8f88bc"
      },
      "source": [
        "best_clf=clf.fit(x_train,y_train)"
      ],
      "execution_count": null,
      "outputs": [
        {
          "output_type": "stream",
          "name": "stdout",
          "text": [
            "Fitting 3 folds for each of 2000 candidates, totalling 6000 fits\n"
          ]
        },
        {
          "output_type": "stream",
          "name": "stderr",
          "text": [
            "[Parallel(n_jobs=-1)]: Using backend LokyBackend with 2 concurrent workers.\n",
            "[Parallel(n_jobs=-1)]: Done 402 tasks      | elapsed:    7.9s\n",
            "[Parallel(n_jobs=-1)]: Done 1328 tasks      | elapsed:   25.1s\n",
            "[Parallel(n_jobs=-1)]: Done 2828 tasks      | elapsed:   53.8s\n",
            "[Parallel(n_jobs=-1)]: Done 6000 out of 6000 | elapsed:  1.9min finished\n"
          ]
        }
      ]
    },
    {
      "cell_type": "code",
      "metadata": {
        "id": "xB3Sea23WGMD",
        "colab": {
          "base_uri": "https://localhost:8080/"
        },
        "outputId": "05dabe0a-276a-42d0-ba4e-11fcc2487a5c"
      },
      "source": [
        "best_clf.best_estimator_"
      ],
      "execution_count": null,
      "outputs": [
        {
          "output_type": "execute_result",
          "data": {
            "text/plain": [
              "LogisticRegression(C=0.0001, class_weight=None, dual=False, fit_intercept=True,\n",
              "                   intercept_scaling=1, l1_ratio=None, max_iter=100,\n",
              "                   multi_class='auto', n_jobs=None, penalty='l1',\n",
              "                   random_state=None, solver='liblinear', tol=0.0001, verbose=0,\n",
              "                   warm_start=False)"
            ]
          },
          "metadata": {},
          "execution_count": 46
        }
      ]
    },
    {
      "cell_type": "code",
      "metadata": {
        "id": "FvvDGWO2WGPh"
      },
      "source": [
        "best_ypred=clf.predict(x_test)"
      ],
      "execution_count": null,
      "outputs": []
    },
    {
      "cell_type": "code",
      "metadata": {
        "id": "i0_opkalWGS7",
        "colab": {
          "base_uri": "https://localhost:8080/"
        },
        "outputId": "ad443ebb-e49c-423d-dff7-3aa26db6e538"
      },
      "source": [
        "print('Accuracy of logistic regression classifier(GridSearchCV) on test set: {:.3f}'.format(best_clf.score(x_test, y_test)))\n",
        "print('Accuracy of logistic regression classifier(GridSearchCV) on train set: {:.3f}'.format(best_clf.score(x_train, y_train)))"
      ],
      "execution_count": null,
      "outputs": [
        {
          "output_type": "stream",
          "name": "stdout",
          "text": [
            "Accuracy of logistic regression classifier(GridSearchCV) on test set: 1.000\n",
            "Accuracy of logistic regression classifier(GridSearchCV) on train set: 1.000\n"
          ]
        }
      ]
    },
    {
      "cell_type": "code",
      "metadata": {
        "id": "tbtnmRi3WGXR",
        "colab": {
          "base_uri": "https://localhost:8080/"
        },
        "outputId": "ed1aadbb-a0de-451a-c1dd-ebc3e79f6745"
      },
      "source": [
        "from sklearn.metrics import confusion_matrix\n",
        "confusion_matrix = confusion_matrix(y_test,y_pred)\n",
        "print(\"Confusion Matrix:\\n\",confusion_matrix)\n",
        "from sklearn.metrics import classification_report\n",
        "print(\"Classification Report:\\n\",classification_report(y_test,y_pred))\n"
      ],
      "execution_count": null,
      "outputs": [
        {
          "output_type": "stream",
          "name": "stdout",
          "text": [
            "Confusion Matrix:\n",
            " [[15  0]\n",
            " [ 0 28]]\n",
            "Classification Report:\n",
            "               precision    recall  f1-score   support\n",
            "\n",
            "           0       1.00      1.00      1.00        15\n",
            "           1       1.00      1.00      1.00        28\n",
            "\n",
            "    accuracy                           1.00        43\n",
            "   macro avg       1.00      1.00      1.00        43\n",
            "weighted avg       1.00      1.00      1.00        43\n",
            "\n"
          ]
        }
      ]
    },
    {
      "cell_type": "code",
      "metadata": {
        "id": "3Q8tgeQXYk2c",
        "colab": {
          "base_uri": "https://localhost:8080/",
          "height": 295
        },
        "outputId": "e445bb5d-32a3-4f54-fe12-dcf75e2f908c"
      },
      "source": [
        "from sklearn.metrics import roc_auc_score\n",
        "from sklearn.metrics import roc_curve\n",
        "logit_roc_auc = roc_auc_score(y_test, logreg.predict(x_test))\n",
        "fpr, tpr, thresholds = roc_curve(y_test, logreg.predict_proba(x_test)[:,1])\n",
        "plt.figure()\n",
        "plt.plot(fpr, tpr, label='Logistic Regression (area = %0.2f)' % logit_roc_auc)\n",
        "plt.plot([0, 1], [0, 1],'r--')\n",
        "plt.xlim([-0.01, 1.0])\n",
        "plt.ylim([0.0, 1.05])\n",
        "plt.xlabel('False Positive Rate')\n",
        "plt.ylabel('True Positive Rate')\n",
        "plt.title('Receiver operating characteristic')\n",
        "plt.legend(loc=\"lower right\")\n",
        "plt.show()"
      ],
      "execution_count": null,
      "outputs": [
        {
          "output_type": "display_data",
          "data": {
            "image/png": "[encoded data removed]",
            "text/plain": [
              "<Figure size 432x288 with 1 Axes>"
            ]
          },
          "metadata": {
            "needs_background": "light"
          }
        }
      ]
    },
    {
      "cell_type": "code",
      "metadata": {
        "id": "zY3PxnEOY1Nv"
      },
      "source": [
        "dt = DecisionTreeClassifier()\n",
        "dt = dt.fit(x_train, y_train)\n",
        "y_pred_dt= dt.predict(x_test)\n"
      ],
      "execution_count": null,
      "outputs": []
    },
    {
      "cell_type": "code",
      "metadata": {
        "id": "4E7GMhj8ZQdp",
        "colab": {
          "base_uri": "https://localhost:8080/"
        },
        "outputId": "2bdd0437-fff4-438f-db8c-1c34ae9faa7e"
      },
      "source": [
        "print('Accuracy of Decision Tree classifier on test set: {:.3f}'.format(dt.score(x_test, y_test)))\n",
        "print('Accuracy of Decision Tree classifier on train set: {:.3f}'.format(dt.score(x_train, y_train)))"
      ],
      "execution_count": null,
      "outputs": [
        {
          "output_type": "stream",
          "name": "stdout",
          "text": [
            "Accuracy of Decision Tree classifier on test set: 1.000\n",
            "Accuracy of Decision Tree classifier on train set: 1.000\n"
          ]
        }
      ]
    },
    {
      "cell_type": "code",
      "metadata": {
        "id": "Ayz25f-8Zd-l"
      },
      "source": [
        "param_grid_dt={'criterion':['gini','entropy'],'max_depth':[2,3,4,5],'max_features':('auto','sqrt','log2'),'min_samples_split':(2,4,6)}"
      ],
      "execution_count": null,
      "outputs": []
    },
    {
      "cell_type": "code",
      "metadata": {
        "id": "RB_lbdM7ZeEu"
      },
      "source": [
        "clf_dt=GridSearchCV(dt,param_grid_dt,n_jobs=-1,verbose=True,cv=5) "
      ],
      "execution_count": null,
      "outputs": []
    },
    {
      "cell_type": "code",
      "metadata": {
        "id": "BmK46j25ZeJ7",
        "colab": {
          "base_uri": "https://localhost:8080/"
        },
        "outputId": "2f750679-5d83-41ac-9a9f-a7eb597fe44c"
      },
      "source": [
        "clf_dt.fit(x_train,y_train)"
      ],
      "execution_count": null,
      "outputs": [
        {
          "output_type": "stream",
          "name": "stdout",
          "text": [
            "Fitting 5 folds for each of 72 candidates, totalling 360 fits\n"
          ]
        },
        {
          "output_type": "stream",
          "name": "stderr",
          "text": [
            "[Parallel(n_jobs=-1)]: Using backend LokyBackend with 2 concurrent workers.\n",
            "[Parallel(n_jobs=-1)]: Done 360 out of 360 | elapsed:    1.3s finished\n"
          ]
        },
        {
          "output_type": "execute_result",
          "data": {
            "text/plain": [
              "GridSearchCV(cv=5, error_score=nan,\n",
              "             estimator=DecisionTreeClassifier(ccp_alpha=0.0, class_weight=None,\n",
              "                                              criterion='gini', max_depth=None,\n",
              "                                              max_features=None,\n",
              "                                              max_leaf_nodes=None,\n",
              "                                              min_impurity_decrease=0.0,\n",
              "                                              min_impurity_split=None,\n",
              "                                              min_samples_leaf=1,\n",
              "                                              min_samples_split=2,\n",
              "                                              min_weight_fraction_leaf=0.0,\n",
              "                                              presort='deprecated',\n",
              "                                              random_state=None,\n",
              "                                              splitter='best'),\n",
              "             iid='deprecated', n_jobs=-1,\n",
              "             param_grid={'criterion': ['gini', 'entropy'],\n",
              "                         'max_depth': [2, 3, 4, 5],\n",
              "                         'max_features': ('auto', 'sqrt', 'log2'),\n",
              "                         'min_samples_split': (2, 4, 6)},\n",
              "             pre_dispatch='2*n_jobs', refit=True, return_train_score=False,\n",
              "             scoring=None, verbose=True)"
            ]
          },
          "metadata": {},
          "execution_count": 55
        }
      ]
    },
    {
      "cell_type": "code",
      "metadata": {
        "id": "1dOwIHMuZeO5",
        "colab": {
          "base_uri": "https://localhost:8080/"
        },
        "outputId": "9393e236-c31b-4654-cea4-be39b4b90c5d"
      },
      "source": [
        "clf_dt.best_estimator_"
      ],
      "execution_count": null,
      "outputs": [
        {
          "output_type": "execute_result",
          "data": {
            "text/plain": [
              "DecisionTreeClassifier(ccp_alpha=0.0, class_weight=None, criterion='gini',\n",
              "                       max_depth=5, max_features='auto', max_leaf_nodes=None,\n",
              "                       min_impurity_decrease=0.0, min_impurity_split=None,\n",
              "                       min_samples_leaf=1, min_samples_split=4,\n",
              "                       min_weight_fraction_leaf=0.0, presort='deprecated',\n",
              "                       random_state=None, splitter='best')"
            ]
          },
          "metadata": {},
          "execution_count": 56
        }
      ]
    },
    {
      "cell_type": "code",
      "metadata": {
        "id": "OHSatDCjZ7f7"
      },
      "source": [
        "best_ypred_dt=clf_dt.predict(x_test)"
      ],
      "execution_count": null,
      "outputs": []
    },
    {
      "cell_type": "code",
      "metadata": {
        "id": "Zhl4aEJzZ-I7",
        "colab": {
          "base_uri": "https://localhost:8080/"
        },
        "outputId": "b9230cf8-fab7-462f-e7cb-81e7cf3a7474"
      },
      "source": [
        "print('Accuracy of Decision Tree(GridSearchCV) classifier on test set: {:.3f}'.format(clf_dt.score(x_test, y_test)))\n",
        "print('Accuracy of Decision Tree(GridSearchCV) classifier on train set: {:.3f}'.format(clf_dt.score(x_train, y_train)))"
      ],
      "execution_count": null,
      "outputs": [
        {
          "output_type": "stream",
          "name": "stdout",
          "text": [
            "Accuracy of Decision Tree(GridSearchCV) classifier on test set: 0.814\n",
            "Accuracy of Decision Tree(GridSearchCV) classifier on train set: 0.925\n"
          ]
        }
      ]
    },
    {
      "cell_type": "code",
      "metadata": {
        "id": "WPmN7kiVaJuy",
        "colab": {
          "base_uri": "https://localhost:8080/"
        },
        "outputId": "5d626d75-3b18-4754-e094-30268a75b60c"
      },
      "source": [
        "from sklearn.metrics import confusion_matrix\n",
        "confusion_matrix = confusion_matrix(y_test,best_ypred_dt)\n",
        "print(\"Confusion Matrix:\\n\",confusion_matrix)\n",
        "print(\"Classification Report:\\n\",classification_report(y_test,best_ypred_dt))"
      ],
      "execution_count": null,
      "outputs": [
        {
          "output_type": "stream",
          "name": "stdout",
          "text": [
            "Confusion Matrix:\n",
            " [[10  5]\n",
            " [ 3 25]]\n",
            "Classification Report:\n",
            "               precision    recall  f1-score   support\n",
            "\n",
            "           0       0.77      0.67      0.71        15\n",
            "           1       0.83      0.89      0.86        28\n",
            "\n",
            "    accuracy                           0.81        43\n",
            "   macro avg       0.80      0.78      0.79        43\n",
            "weighted avg       0.81      0.81      0.81        43\n",
            "\n"
          ]
        }
      ]
    },
    {
      "cell_type": "code",
      "metadata": {
        "id": "zh4sUqPbaM2O"
      },
      "source": [
        "rf = RandomForestClassifier(n_estimators=100)\n",
        "rf.fit(x_train,y_train)\n",
        "y_pred_rf = rf.predict(x_test)\n"
      ],
      "execution_count": null,
      "outputs": []
    },
    {
      "cell_type": "code",
      "metadata": {
        "id": "8VMahvXNaU9H",
        "colab": {
          "base_uri": "https://localhost:8080/"
        },
        "outputId": "373ab665-c27b-45fe-df02-530a4ce2aa83"
      },
      "source": [
        "print('Accuracy of Random Forest classifier on test set: {:.3f}'.format(rf.score(x_test, y_test)))\n",
        "print('Accuracy of Random Forest classifier on train set: {:.3f}'.format(rf.score(x_train, y_train)))"
      ],
      "execution_count": null,
      "outputs": [
        {
          "output_type": "stream",
          "name": "stdout",
          "text": [
            "Accuracy of Random Forest classifier on test set: 1.000\n",
            "Accuracy of Random Forest classifier on train set: 1.000\n"
          ]
        }
      ]
    },
    {
      "cell_type": "code",
      "metadata": {
        "id": "65gckxQ6aVCM"
      },
      "source": [
        "# Number of trees in random forest\n",
        "n_estimators =[20,60,100,120]\n",
        "# Number of features to consider at every split\n",
        "max_features = [0.2,0.6,1.0]\n",
        "# Maximum number of levels in tree\n",
        "max_depth = [2,4,8,None]\n",
        "# Minimum number of samples required to split a node\n",
        "min_samples_split = [2, 5]\n",
        "# Minimum number of samples required at each leaf node\n",
        "min_samples_leaf = [1, 2]\n",
        "# Method of selecting samples for training each tree\n",
        "bootstrap = [True, False]\n",
        "criterion=['gini','entropy']"
      ],
      "execution_count": null,
      "outputs": []
    },
    {
      "cell_type": "code",
      "metadata": {
        "id": "PUMkXN9uaVFY"
      },
      "source": [
        "param_grid_rf = {'n_estimators': n_estimators,\n",
        "               'max_features': max_features,\n",
        "               'max_depth': max_depth,\n",
        "               'min_samples_split': min_samples_split,\n",
        "               'min_samples_leaf': min_samples_leaf,\n",
        "               'bootstrap': bootstrap,'criterion':criterion}"
      ],
      "execution_count": null,
      "outputs": []
    },
    {
      "cell_type": "code",
      "metadata": {
        "id": "BeZ_CZeqaxoE"
      },
      "source": [
        "clf_rf = GridSearchCV(estimator = rf, param_grid = param_grid_rf, cv = 5, verbose=2, n_jobs = -1)"
      ],
      "execution_count": null,
      "outputs": []
    },
    {
      "cell_type": "code",
      "metadata": {
        "id": "Bp0odlqra0HR",
        "colab": {
          "base_uri": "https://localhost:8080/"
        },
        "outputId": "2f5f8a15-8afb-4655-c946-b25a5b4df36b"
      },
      "source": [
        "clf_rf.fit(x_train, y_train)"
      ],
      "execution_count": null,
      "outputs": [
        {
          "output_type": "stream",
          "name": "stdout",
          "text": [
            "Fitting 5 folds for each of 768 candidates, totalling 3840 fits\n"
          ]
        },
        {
          "output_type": "stream",
          "name": "stderr",
          "text": [
            "[Parallel(n_jobs=-1)]: Using backend LokyBackend with 2 concurrent workers.\n",
            "[Parallel(n_jobs=-1)]: Done  70 tasks      | elapsed:    6.4s\n",
            "[Parallel(n_jobs=-1)]: Done 312 tasks      | elapsed:   30.0s\n",
            "[Parallel(n_jobs=-1)]: Done 718 tasks      | elapsed:  1.2min\n",
            "[Parallel(n_jobs=-1)]: Done 1284 tasks      | elapsed:  2.1min\n",
            "[Parallel(n_jobs=-1)]: Done 2014 tasks      | elapsed:  3.3min\n",
            "[Parallel(n_jobs=-1)]: Done 2904 tasks      | elapsed:  4.4min\n",
            "[Parallel(n_jobs=-1)]: Done 3840 out of 3840 | elapsed:  5.7min finished\n"
          ]
        },
        {
          "output_type": "execute_result",
          "data": {
            "text/plain": [
              "GridSearchCV(cv=5, error_score=nan,\n",
              "             estimator=RandomForestClassifier(bootstrap=True, ccp_alpha=0.0,\n",
              "                                              class_weight=None,\n",
              "                                              criterion='gini', max_depth=None,\n",
              "                                              max_features='auto',\n",
              "                                              max_leaf_nodes=None,\n",
              "                                              max_samples=None,\n",
              "                                              min_impurity_decrease=0.0,\n",
              "                                              min_impurity_split=None,\n",
              "                                              min_samples_leaf=1,\n",
              "                                              min_samples_split=2,\n",
              "                                              min_weight_fraction_leaf=0.0,\n",
              "                                              n_estimators=100, n_jobs=None,...\n",
              "                                              random_state=None, verbose=0,\n",
              "                                              warm_start=False),\n",
              "             iid='deprecated', n_jobs=-1,\n",
              "             param_grid={'bootstrap': [True, False],\n",
              "                         'criterion': ['gini', 'entropy'],\n",
              "                         'max_depth': [2, 4, 8, None],\n",
              "                         'max_features': [0.2, 0.6, 1.0],\n",
              "                         'min_samples_leaf': [1, 2],\n",
              "                         'min_samples_split': [2, 5],\n",
              "                         'n_estimators': [20, 60, 100, 120]},\n",
              "             pre_dispatch='2*n_jobs', refit=True, return_train_score=False,\n",
              "             scoring=None, verbose=2)"
            ]
          },
          "metadata": {},
          "execution_count": 65
        }
      ]
    },
    {
      "cell_type": "code",
      "metadata": {
        "id": "KmyBcDq3a2Xy",
        "colab": {
          "base_uri": "https://localhost:8080/"
        },
        "outputId": "cbf10d9e-801a-4ce6-cb2d-1fbb02860119"
      },
      "source": [
        "clf_rf.best_estimator_"
      ],
      "execution_count": null,
      "outputs": [
        {
          "output_type": "execute_result",
          "data": {
            "text/plain": [
              "RandomForestClassifier(bootstrap=True, ccp_alpha=0.0, class_weight=None,\n",
              "                       criterion='gini', max_depth=2, max_features=0.2,\n",
              "                       max_leaf_nodes=None, max_samples=None,\n",
              "                       min_impurity_decrease=0.0, min_impurity_split=None,\n",
              "                       min_samples_leaf=1, min_samples_split=2,\n",
              "                       min_weight_fraction_leaf=0.0, n_estimators=20,\n",
              "                       n_jobs=None, oob_score=False, random_state=None,\n",
              "                       verbose=0, warm_start=False)"
            ]
          },
          "metadata": {},
          "execution_count": 66
        }
      ]
    },
    {
      "cell_type": "code",
      "metadata": {
        "id": "nCeydgSba8qJ"
      },
      "source": [
        "best_ypred_rf=clf_rf.predict(x_test)"
      ],
      "execution_count": null,
      "outputs": []
    },
    {
      "cell_type": "code",
      "metadata": {
        "id": "pGp58_P4bDTg",
        "colab": {
          "base_uri": "https://localhost:8080/"
        },
        "outputId": "38959bc2-6f4b-421d-c244-129c37d49472"
      },
      "source": [
        "print('Accuracy of Random Forest(GridSearchCV) classifier on test set: {:.3f}'.format(clf_rf.score(x_test, y_test)))\n",
        "print('Accuracy of Random Forest(GridSearchCV) classifier on train set: {:.3f}'.format(clf_rf.score(x_train, y_train)))"
      ],
      "execution_count": null,
      "outputs": [
        {
          "output_type": "stream",
          "name": "stdout",
          "text": [
            "Accuracy of Random Forest(GridSearchCV) classifier on test set: 0.977\n",
            "Accuracy of Random Forest(GridSearchCV) classifier on train set: 0.983\n"
          ]
        }
      ]
    },
    {
      "cell_type": "code",
      "metadata": {
        "id": "1DWCDbqFbFiY",
        "colab": {
          "base_uri": "https://localhost:8080/"
        },
        "outputId": "d018e5fe-42fb-4f12-d845-5987f87605d1"
      },
      "source": [
        "from sklearn.metrics import confusion_matrix\n",
        "confusion_matrix = confusion_matrix(y_test,best_ypred_rf)\n",
        "print(\"Confusion Matrix:\\n\",confusion_matrix)\n",
        "print(\"Classification Report:\\n\",classification_report(y_test,best_ypred_rf))"
      ],
      "execution_count": null,
      "outputs": [
        {
          "output_type": "stream",
          "name": "stdout",
          "text": [
            "Confusion Matrix:\n",
            " [[15  0]\n",
            " [ 1 27]]\n",
            "Classification Report:\n",
            "               precision    recall  f1-score   support\n",
            "\n",
            "           0       0.94      1.00      0.97        15\n",
            "           1       1.00      0.96      0.98        28\n",
            "\n",
            "    accuracy                           0.98        43\n",
            "   macro avg       0.97      0.98      0.97        43\n",
            "weighted avg       0.98      0.98      0.98        43\n",
            "\n"
          ]
        }
      ]
    },
    {
      "cell_type": "code",
      "metadata": {
        "id": "JYohqweabNeX",
        "colab": {
          "base_uri": "https://localhost:8080/"
        },
        "outputId": "ed7431c1-1469-4ca9-e91f-4fb836c6dc50"
      },
      "source": [
        "from sklearn.naive_bayes import BernoulliNB \n",
        "nb = BernoulliNB() \n",
        "nb.fit(x_train, y_train) \n",
        "  \n",
        "#Applying and predicting \n",
        "y_pred_nb = nb.predict(x_test) \n",
        "\n",
        "print('Accuracy of Naive Bayes classifier on test set: {:.3f}'.format(nb.score(x_test, y_test)))\n",
        "print('Accuracy of Naive Bayes classifier on train set: {:.3f}'.format(nb.score(x_train, y_train)))"
      ],
      "execution_count": null,
      "outputs": [
        {
          "output_type": "stream",
          "name": "stdout",
          "text": [
            "Accuracy of Naive Bayes classifier on test set: 1.000\n",
            "Accuracy of Naive Bayes classifier on train set: 1.000\n"
          ]
        }
      ]
    },
    {
      "cell_type": "markdown",
      "metadata": {
        "id": "018vMjmkcb34"
      },
      "source": [
        "Hyperparameter Tuning for Naive Bayes"
      ]
    },
    {
      "cell_type": "code",
      "metadata": {
        "id": "sq_hZ0wIbQwn"
      },
      "source": [
        "para_gird_nb={'alpha':[0.01,0.1,0.5,1,10]}"
      ],
      "execution_count": null,
      "outputs": []
    },
    {
      "cell_type": "code",
      "metadata": {
        "id": "8_NNCq11cgJs"
      },
      "source": [
        "clf_nb=GridSearchCV(nb,para_gird_nb,n_jobs=-1,cv=5,verbose=5)"
      ],
      "execution_count": null,
      "outputs": []
    },
    {
      "cell_type": "code",
      "metadata": {
        "id": "zrQhTdDLciAl",
        "colab": {
          "base_uri": "https://localhost:8080/"
        },
        "outputId": "ddca9230-f864-4a9f-8c33-a5ea30e7049d"
      },
      "source": [
        "clf_nb.fit(x_train,y_train)"
      ],
      "execution_count": null,
      "outputs": [
        {
          "output_type": "stream",
          "name": "stderr",
          "text": [
            "[Parallel(n_jobs=-1)]: Using backend LokyBackend with 2 concurrent workers.\n"
          ]
        },
        {
          "output_type": "stream",
          "name": "stdout",
          "text": [
            "Fitting 5 folds for each of 5 candidates, totalling 25 fits\n"
          ]
        },
        {
          "output_type": "stream",
          "name": "stderr",
          "text": [
            "[Parallel(n_jobs=-1)]: Done  25 out of  25 | elapsed:    0.1s finished\n"
          ]
        },
        {
          "output_type": "execute_result",
          "data": {
            "text/plain": [
              "GridSearchCV(cv=5, error_score=nan,\n",
              "             estimator=BernoulliNB(alpha=1.0, binarize=0.0, class_prior=None,\n",
              "                                   fit_prior=True),\n",
              "             iid='deprecated', n_jobs=-1,\n",
              "             param_grid={'alpha': [0.01, 0.1, 0.5, 1, 10]},\n",
              "             pre_dispatch='2*n_jobs', refit=True, return_train_score=False,\n",
              "             scoring=None, verbose=5)"
            ]
          },
          "metadata": {},
          "execution_count": 73
        }
      ]
    },
    {
      "cell_type": "code",
      "metadata": {
        "id": "kTDQThrfcjrs",
        "colab": {
          "base_uri": "https://localhost:8080/"
        },
        "outputId": "22965c3e-32de-4db8-e1f3-81088a18e3cf"
      },
      "source": [
        "clf_nb.best_estimator_"
      ],
      "execution_count": null,
      "outputs": [
        {
          "output_type": "execute_result",
          "data": {
            "text/plain": [
              "BernoulliNB(alpha=0.01, binarize=0.0, class_prior=None, fit_prior=True)"
            ]
          },
          "metadata": {},
          "execution_count": 74
        }
      ]
    },
    {
      "cell_type": "code",
      "metadata": {
        "id": "RmHMwQdbcl8E"
      },
      "source": [
        "best_ypred_nb=clf_nb.predict(x_test)"
      ],
      "execution_count": null,
      "outputs": []
    },
    {
      "cell_type": "code",
      "metadata": {
        "id": "4a2Pigukcmac",
        "colab": {
          "base_uri": "https://localhost:8080/"
        },
        "outputId": "6d647342-fe62-4a51-f74f-368eee1cb8b4"
      },
      "source": [
        "print('Accuracy of Naive Bayes classifier on test set(GridSearchCV): {:.3f}'.format(clf_nb.score(x_test, y_test)))\n",
        "print('Accuracy of Naive Bayes classifier on train set(GridSearchCV): {:.3f}'.format(clf_nb.score(x_train, y_train)))"
      ],
      "execution_count": null,
      "outputs": [
        {
          "output_type": "stream",
          "name": "stdout",
          "text": [
            "Accuracy of Naive Bayes classifier on test set(GridSearchCV): 1.000\n",
            "Accuracy of Naive Bayes classifier on train set(GridSearchCV): 1.000\n"
          ]
        }
      ]
    },
    {
      "cell_type": "markdown",
      "metadata": {
        "id": "qJFPOhOVczT8"
      },
      "source": [
        "Confusion matrix and Classification report"
      ]
    },
    {
      "cell_type": "code",
      "metadata": {
        "id": "AxizlPaHcmhR",
        "colab": {
          "base_uri": "https://localhost:8080/"
        },
        "outputId": "01395c38-46b6-446a-839b-1b835e80b645"
      },
      "source": [
        "from sklearn.metrics import confusion_matrix\n",
        "confusion_matrix = confusion_matrix(y_test, y_pred_nb)\n",
        "print(\"Confusion Matrix:\\n\",confusion_matrix)\n",
        "print(\"Classification Report:\\n\",classification_report(y_test, y_pred_nb))"
      ],
      "execution_count": null,
      "outputs": [
        {
          "output_type": "stream",
          "name": "stdout",
          "text": [
            "Confusion Matrix:\n",
            " [[15  0]\n",
            " [ 0 28]]\n",
            "Classification Report:\n",
            "               precision    recall  f1-score   support\n",
            "\n",
            "           0       1.00      1.00      1.00        15\n",
            "           1       1.00      1.00      1.00        28\n",
            "\n",
            "    accuracy                           1.00        43\n",
            "   macro avg       1.00      1.00      1.00        43\n",
            "weighted avg       1.00      1.00      1.00        43\n",
            "\n"
          ]
        }
      ]
    },
    {
      "cell_type": "markdown",
      "metadata": {
        "id": "42UFQCDfc9-W"
      },
      "source": [
        "SVM"
      ]
    },
    {
      "cell_type": "code",
      "metadata": {
        "id": "ad-U-7Jzcmny"
      },
      "source": [
        "from sklearn.metrics import confusion_matrix\n",
        "from sklearn.svm import SVC\n",
        "svclassifier = SVC(kernel='linear',probability=True)\n",
        "svclassifier.fit(x_train, y_train)\n",
        "y_pred_svm = svclassifier.predict(x_test)\n",
        "\n"
      ],
      "execution_count": null,
      "outputs": []
    },
    {
      "cell_type": "code",
      "metadata": {
        "id": "jH7xgFhXcmtf",
        "colab": {
          "base_uri": "https://localhost:8080/"
        },
        "outputId": "cb0b0c96-7ab9-4a44-9d9f-a9b6d2d9f7b5"
      },
      "source": [
        "print('Accuracy of SVM  on test set: {:.3f}'.format(svclassifier.score(x_test, y_test)))\n",
        "print('Accuracy of SVM  on train set: {:.3f}'.format(svclassifier.score(x_train, y_train)))\n"
      ],
      "execution_count": null,
      "outputs": [
        {
          "output_type": "stream",
          "name": "stdout",
          "text": [
            "Accuracy of SVM  on test set: 1.000\n",
            "Accuracy of SVM  on train set: 1.000\n"
          ]
        }
      ]
    },
    {
      "cell_type": "code",
      "metadata": {
        "id": "KPbZbrEecm60",
        "colab": {
          "base_uri": "https://localhost:8080/"
        },
        "outputId": "80839e26-bc4d-4950-d7c0-6e4194b91499"
      },
      "source": [
        "confusion_matrix = confusion_matrix(y_test,y_pred_svm)\n",
        "print(\"Confusion Matrix:\\n\",confusion_matrix)\n",
        "print(\"Classification Report:\\n\",classification_report(y_test,y_pred_svm))"
      ],
      "execution_count": null,
      "outputs": [
        {
          "output_type": "stream",
          "name": "stdout",
          "text": [
            "Confusion Matrix:\n",
            " [[15  0]\n",
            " [ 0 28]]\n",
            "Classification Report:\n",
            "               precision    recall  f1-score   support\n",
            "\n",
            "           0       1.00      1.00      1.00        15\n",
            "           1       1.00      1.00      1.00        28\n",
            "\n",
            "    accuracy                           1.00        43\n",
            "   macro avg       1.00      1.00      1.00        43\n",
            "weighted avg       1.00      1.00      1.00        43\n",
            "\n"
          ]
        }
      ]
    },
    {
      "cell_type": "code",
      "metadata": {
        "id": "c-5vwHQydF0x",
        "colab": {
          "base_uri": "https://localhost:8080/",
          "height": 295
        },
        "outputId": "23e4c4e6-8827-4cd5-bfec-fc85eb1613da"
      },
      "source": [
        "svm_roc_auc = roc_auc_score(y_test, svclassifier.predict(x_test))\n",
        "fpr, tpr, thresholds = roc_curve(y_test, svclassifier.predict_proba(x_test)[:,1])\n",
        "plt.figure()\n",
        "plt.plot(fpr, tpr, label='SVM (area = %0.2f)' % svm_roc_auc)\n",
        "plt.plot([0, 1], [0, 1],'r--')\n",
        "plt.xlim([-0.01, 1.0])\n",
        "plt.ylim([0.0, 1.05])\n",
        "plt.xlabel('False Positive Rate')\n",
        "plt.ylabel('True Positive Rate')\n",
        "plt.title('Receiver operating characteristic')\n",
        "plt.legend(loc=\"lower right\")\n",
        "plt.show()"
      ],
      "execution_count": null,
      "outputs": [
        {
          "output_type": "display_data",
          "data": {
            "image/png": "[encoded data removed]",
            "text/plain": [
              "<Figure size 432x288 with 1 Axes>"
            ]
          },
          "metadata": {
            "needs_background": "light"
          }
        }
      ]
    },
    {
      "cell_type": "code",
      "metadata": {
        "id": "nN4KAYrHmmZ0"
      },
      "source": [
        "import pickle"
      ],
      "execution_count": null,
      "outputs": []
    },
    {
      "cell_type": "code",
      "metadata": {
        "id": "V0LqpzmsniTi"
      },
      "source": [
        "with open('/content/drive/MyDrive/campus placement/model_pickle','wb') as f:\n",
        "  pickle.dump(clf,f)"
      ],
      "execution_count": null,
      "outputs": []
    },
    {
      "cell_type": "code",
      "metadata": {
        "id": "L7Bl3O8tnihq"
      },
      "source": [
        "with open('/content/drive/MyDrive/campus placement/model_pickle','rb') as f:\n",
        "  map = pickle.load(f)"
      ],
      "execution_count": null,
      "outputs": []
    },
    {
      "cell_type": "code",
      "metadata": {
        "id": "BHxp3JxHo8JM",
        "colab": {
          "base_uri": "https://localhost:8080/"
        },
        "outputId": "6fad4fac-c919-4bcd-cc7b-93540a62ee8f"
      },
      "source": [
        "map"
      ],
      "execution_count": null,
      "outputs": [
        {
          "output_type": "execute_result",
          "data": {
            "text/plain": [
              "GridSearchCV(cv=3, error_score=nan,\n",
              "             estimator=LogisticRegression(C=1.0, class_weight=None, dual=False,\n",
              "                                          fit_intercept=True,\n",
              "                                          intercept_scaling=1, l1_ratio=None,\n",
              "                                          max_iter=100, multi_class='auto',\n",
              "                                          n_jobs=None, penalty='l2',\n",
              "                                          random_state=None, solver='lbfgs',\n",
              "                                          tol=0.0001, verbose=0,\n",
              "                                          warm_start=False),\n",
              "             iid='deprecated', n_jobs=-1,\n",
              "             param_grid=[{'C': array([1.00000000e-04, 2.63...\n",
              "       2.33572147e-01, 6.15848211e-01, 1.62377674e+00, 4.28133240e+00,\n",
              "       1.12883789e+01, 2.97635144e+01, 7.84759970e+01, 2.06913808e+02,\n",
              "       5.45559478e+02, 1.43844989e+03, 3.79269019e+03, 1.00000000e+04]),\n",
              "                          'max_iter': [100, 200, 1000, 2500, 5000],\n",
              "                          'penalty': ['l1', 'l2', 'elasticnet', 'none'],\n",
              "                          'solver': ['lbfgs', 'newton-cg', 'liblinear', 'sag',\n",
              "                                     'saga']}],\n",
              "             pre_dispatch='2*n_jobs', refit=True, return_train_score=False,\n",
              "             scoring=None, verbose=True)"
            ]
          },
          "metadata": {},
          "execution_count": 89
        }
      ]
    },
    {
      "cell_type": "code",
      "metadata": {
        "id": "L62BLBEeo-Om",
        "colab": {
          "base_uri": "https://localhost:8080/"
        },
        "outputId": "7ece267c-010a-47d2-d9c7-094b777967c7"
      },
      "source": [
        "map.predict(x_test.values)"
      ],
      "execution_count": null,
      "outputs": [
        {
          "output_type": "execute_result",
          "data": {
            "text/plain": [
              "array([1, 1, 0, 1, 0, 1, 1, 1, 1, 0, 1, 1, 0, 1, 0, 1, 1, 0, 1, 1, 1, 1,\n",
              "       1, 0, 0, 1, 1, 1, 1, 1, 0, 0, 0, 1, 0, 1, 0, 1, 0, 1, 1, 0, 1])"
            ]
          },
          "metadata": {},
          "execution_count": 90
        }
      ]
    },
    {
      "cell_type": "code",
      "metadata": {
        "id": "TKpnE-lXo-X2"
      },
      "source": [
        ""
      ],
      "execution_count": null,
      "outputs": []
    },
    {
      "cell_type": "code",
      "metadata": {
        "id": "MsaPMyfRdIfm",
        "colab": {
          "base_uri": "https://localhost:8080/"
        },
        "outputId": "c8ab89bd-2fd8-4f80-b796-7d5879b23a73"
      },
      "source": [
        "from prettytable import PrettyTable\n",
        "\n",
        "\n",
        "x = PrettyTable()\n",
        "x.field_names =  ['MODEL','TRAIN_ACCURACY','TEST_ACCURACY']\n",
        "\n",
        "x.add_row([\"Log Reg \", 'Log reg train = 0.896','Log reg test = 0.907'])\n",
        "\n",
        "x.add_row([\"Hyperparameter Tuning Log Reg \", 'Log reg(GridSearchCV)train = 0.908','Log reg(GridSearchCV) test = 0.907'])\n",
        "\n",
        "x.add_row([\"DT\", 'DT train = 1.000','DT test = 0.791'])\n",
        "\n",
        "x.add_row([\"Hyperparam Tuning for DT\", 'DT(GridSearchCV) train = 0.908','DT(GridSearchCV)test = 0.721'])\n",
        "\n",
        "x.add_row([\"RF\", 'RF train = 1.000','RF test = 0.884'])\n",
        "\n",
        "x.add_row([\"Hyperparam Tuning for RF\", 'RF(GridSearchCV) train = 1.000','RF(GridSearchCV) test = 0.814'])\n",
        "\n",
        "x.add_row([\"NB BernoulliNB\", 'NB train = 0.762','NB test = 0.698'])\n",
        "\n",
        "x.add_row([\"Hyperparameter Tuning for NB\", 'NB train (GridSearchCV)= 0.758','NB test set(GridSearchCV): 0.698'])\n",
        "\n",
        "x.add_row([\"SVM\", 'Accuracy = SVM train = 0.912','Accuracy = SVM test = 0.907'])\n",
        "\n",
        "\n",
        "\n",
        "\n",
        "\n",
        "\n",
        "\n",
        "\n",
        "\n",
        "\n",
        "\n",
        "\n",
        "print('\\n')\n",
        "print(x)"
      ],
      "execution_count": null,
      "outputs": [
        {
          "output_type": "stream",
          "name": "stdout",
          "text": [
            "\n",
            "\n",
            "+--------------------------------+------------------------------------+------------------------------------+\n",
            "|             MODEL              |           TRAIN_ACCURACY           |           TEST_ACCURACY            |\n",
            "+--------------------------------+------------------------------------+------------------------------------+\n",
            "|            Log Reg             |       Log reg train = 0.896        |        Log reg test = 0.907        |\n",
            "| Hyperparameter Tuning Log Reg  | Log reg(GridSearchCV)train = 0.908 | Log reg(GridSearchCV) test = 0.907 |\n",
            "|               DT               |          DT train = 1.000          |          DT test = 0.791           |\n",
            "|    Hyperparam Tuning for DT    |   DT(GridSearchCV) train = 0.908   |    DT(GridSearchCV)test = 0.721    |\n",
            "|               RF               |          RF train = 1.000          |          RF test = 0.884           |\n",
            "|    Hyperparam Tuning for RF    |   RF(GridSearchCV) train = 1.000   |   RF(GridSearchCV) test = 0.814    |\n",
            "|         NB BernoulliNB         |          NB train = 0.762          |          NB test = 0.698           |\n",
            "|  Hyperparameter Tuning for NB  |   NB train (GridSearchCV)= 0.758   |  NB test set(GridSearchCV): 0.698  |\n",
            "|              SVM               |    Accuracy = SVM train = 0.912    |    Accuracy = SVM test = 0.907     |\n",
            "+--------------------------------+------------------------------------+------------------------------------+\n"
          ]
        }
      ]
    },
    {
      "cell_type": "code",
      "metadata": {
        "id": "-0h3Xyxfo9QP"
      },
      "source": [
        "df"
      ],
      "execution_count": null,
      "outputs": []
    },
    {
      "cell_type": "code",
      "metadata": {
        "id": "MbayXRXukEd5"
      },
      "source": [
        "!python --version"
      ],
      "execution_count": null,
      "outputs": []
    },
    {
      "cell_type": "code",
      "metadata": {
        "id": "EdGZ7s2ykEj8"
      },
      "source": [
        "pip freeze>\"/content/drive/MyDrive/campus placement/requirements.txt\""
      ],
      "execution_count": null,
      "outputs": []
    },
    {
      "cell_type": "markdown",
      "metadata": {
        "id": "-l9-clLw0X56"
      },
      "source": [
        "Conclusion Comparing all the applied models, it is evident the Logistic Regression with GridSearchCV is performing the best with a precision and accuracy score of 90.8 and 90.7 respectively. "
      ]
    }
  ]
}